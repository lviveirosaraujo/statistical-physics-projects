{
  "cells": [
    {
      "cell_type": "markdown",
      "id": "8c96f55e",
      "metadata": {
        "tags": [
          "header"
        ],
        "id": "8c96f55e"
      },
      "source": [
        "# TPC1 - Teoria de Probabilidades\n",
        "\n",
        "## Atenção:\n",
        "\n",
        "• Não deve escrever o seu nome nem nenhum código identificador em nenhum sítio.\n",
        "\n",
        "• Deve entregar ESTE Notebook de Jupyter.\n",
        "\n",
        "• O trabalho é individual. Podem e devem haver discussões com colegas mas o resultado entregue é individual.\n",
        "\n",
        "• Não deve acrescentar ou apagar nenhuma célula.\n",
        "\n",
        "• Todas as explicações devem ser claras e concisas.\n",
        "\n",
        "• É preferível fazer menos e fazer bem que muito e mal.\n",
        "\n",
        "• O pacote $\\texttt{numba}$ pode diminuir o tempo de cálculo.\n",
        "\n",
        "• A não verificação de alguma destas regras leva ao anulamento e exclusão da prova.\n",
        "\n",
        "### Exercicio 1: Gerador de números aleatórios\n",
        "Considere a distribuição de probabilidade dada pela distribuição,\n",
        "\\begin{equation}\n",
        "\\rho(x)=\\frac{e^{-\\left(\\frac{x}{\\sigma}\\right)^{4}}}{C(\\sigma)}\n",
        "\\end{equation}\n",
        "onde x é uma variável aleatória real. Esta distribuição não tem uma cumulativa fácil de obter pelo que se torna impossível utilizar o método de inversão para gerar amostras aleatórias com $\\rho$. Por este motivo, iremos utilizar o método de von Neumann (VN) para gerar amostras aleatórias. Como é possivel ajustar a escala de um gerador de números aleatórios através de uma operação simples, $x=\\sigma x'$, podemos escolher $\\sigma=1$. \n",
        "\n",
        "1. Este método utiliza propostas uniformes, $E(x)$,num intervalo entre $[-\\Delta/2,\\Delta/2]$ para serem aceites no algoritmo de VN."
      ]
    },
    {
      "cell_type": "code",
      "execution_count": 2,
      "id": "188ac467",
      "metadata": {
        "tags": [
          "header"
        ],
        "id": "188ac467"
      },
      "outputs": [],
      "source": [
        "# Importe os Módulos Necessários\n",
        "\n",
        "import numpy as np\n",
        "import numpy.random as rd\n",
        "import matplotlib.pyplot as plt\n",
        "from scipy.integrate import quad\n",
        "\n",
        "\n",
        "%matplotlib inline"
      ]
    },
    {
      "cell_type": "markdown",
      "id": "c48b06b9",
      "metadata": {
        "tags": [
          "pergunta"
        ],
        "id": "c48b06b9"
      },
      "source": [
        "(a) Escreva a expressão analítica da probabilidade de aceitação para cada $x$, $P(A|x)$ de modo a maximizar as aceitações."
      ]
    },
    {
      "cell_type": "markdown",
      "id": "9c1fcbd3",
      "metadata": {
        "tags": [
          "resposta"
        ],
        "id": "9c1fcbd3"
      },
      "source": [
        "Responda Aqui\n",
        "\n",
        "A probabilidade de aceitação para um dado $x$ pode ser expressa por\n",
        "\n",
        "$$\n",
        "\\begin{align}\n",
        "P(A|x) &= \\frac{\\rho(x)}{E(x)}C\n",
        "\\end{align}\n",
        "$$\n",
        "\n",
        "onde $E(x)$ representa a probabilidade de escolha de uma proposta definida no intervalo $\\left[-\\Delta/2, \\Delta/2  \\right]$. Como esta escolha é uniforme, podemos subtituir por $1/\\Delta$. Substituindo, temos\n",
        "\n",
        "$$\n",
        "\\begin{align}\n",
        "P(A|x) &= \\Delta \\frac{e^{-\\left(\\frac{x}{\\sigma}\\right)^{4}}}{C(\\sigma)} C\n",
        "\\end{align}\n",
        "$$\n",
        "\n",
        "em que $C(\\sigma)$ corresponde à constante de normalização da distribuição $\\rho(x)$.\n",
        "\n",
        "\n",
        "De modo a maximizar as aceitações, a constante $C$ deve ser \n",
        "\n",
        "$$\n",
        "C = \\frac{1}{max \\left(\\frac{\\rho(x)}{E(x)}\\right)}\n",
        "$$\n",
        "\n",
        "Desta forma, a expressão fica \n",
        "\n",
        "$$\n",
        "\\begin{align}\n",
        "P(A|x) &=  e^{-\\left(\\frac{x}{\\sigma}\\right)^{4}}\n",
        "\\end{align}\n",
        "$$\n",
        "\n"
      ]
    },
    {
      "cell_type": "markdown",
      "id": "011d9573",
      "metadata": {
        "tags": [
          "pergunta"
        ],
        "id": "011d9573"
      },
      "source": [
        "(b) Escreva uma função que gera $M$ eventos aleatórios com a distribuição $\\rho$ utilizando esta proposta."
      ]
    },
    {
      "cell_type": "markdown",
      "id": "2ccc848b",
      "metadata": {
        "tags": [
          "resposta"
        ],
        "id": "2ccc848b"
      },
      "source": [
        "Responda Aqui"
      ]
    },
    {
      "cell_type": "code",
      "execution_count": 8,
      "id": "c5e74aff",
      "metadata": {
        "tags": [
          "code"
        ],
        "colab": {
          "base_uri": "https://localhost:8080/"
        },
        "id": "c5e74aff",
        "outputId": "f4400aac-51c5-45ee-c03d-403bfacb08ee"
      },
      "outputs": [
        {
          "output_type": "stream",
          "name": "stdout",
          "text": [
            "O valor da constante de normalização é 1.8128049541109539\n"
          ]
        }
      ],
      "source": [
        "# Responda Aqui\n",
        "\n",
        "def Integrand_NormConst(x):                               # Definir função integranda para determinar a constante de normalização\n",
        "  return np.exp(-(x**4))\n",
        "\n",
        "y = np.vectorize(Integrand_NormConst,otypes = [float])\n",
        "\n",
        "def Csigma():                                             \n",
        "  Int = quad(y, -10, 10)\n",
        "  return Int[0]\n",
        "\n",
        "def vonNeumann(M, delta):                                # Função que gera M eventos aleatórios com a distribuição p\n",
        "\n",
        "    final = np.array([])\n",
        "    N = 0\n",
        "    Na = 0\n",
        "\n",
        "    while(final.size < M):\n",
        "\n",
        "        x = delta*(rd.random_sample(M) - 0.5)                    \n",
        "        results, = np.where(rd.random_sample(M) < np.exp(-(x**4)))  \n",
        "\n",
        "        N += len(x)\n",
        "        Na += len(results,)\n",
        "\n",
        "        results = x[results,]                                         \n",
        "\n",
        "        final = np.concatenate((final,results))     \n",
        "\n",
        "    PA = (Na/N)\n",
        "\n",
        "    # print(f\"O número de propostas aceites corresponde a {PA*100} % das propostas totais para delta igual a {delta}\")                   \n",
        "\n",
        "    return final[0:M], PA\n",
        "    \n",
        "print('O valor da constante de normalização é',Csigma())\n",
        "\n",
        "Norm_Const = Csigma()"
      ]
    },
    {
      "cell_type": "markdown",
      "id": "3870b289",
      "metadata": {
        "tags": [
          "pergunta"
        ],
        "id": "3870b289"
      },
      "source": [
        "(c) Compare o estimador da densidade de probabilidade de uma amostra quando se utiliza $\\Delta=0.5,1.0,2.0\\,\\text{e}\\,4.0$. Comente os resultados observados. "
      ]
    },
    {
      "cell_type": "markdown",
      "id": "8ba0300c",
      "metadata": {
        "tags": [
          "resposta"
        ],
        "id": "8ba0300c"
      },
      "source": [
        "Responda Aqui\n",
        "\n",
        "É possível observar que quanto maio for o valor de $\\Delta$, maior é a área da distribuição $\\rho(x)$ compreendida pela função uniforme de escolha. Como consequência, são propostos cada vez mais pontos pertencentes à distribuição, melhorando a qualidade do gerador."
      ]
    },
    {
      "cell_type": "code",
      "execution_count": null,
      "id": "f7dede7f",
      "metadata": {
        "tags": [
          "code"
        ],
        "colab": {
          "base_uri": "https://localhost:8080/",
          "height": 1000
        },
        "id": "f7dede7f",
        "outputId": "236bf558-79ec-4898-f7c4-d24f05f4666c"
      },
      "outputs": [
        {
          "output_type": "display_data",
          "data": {
            "text/plain": [
              "<Figure size 432x288 with 1 Axes>"
            ],
            "image/png": "[encoded data removed]"
          },
          "metadata": {
            "needs_background": "light"
          }
        },
        {
          "output_type": "display_data",
          "data": {
            "text/plain": [
              "<Figure size 432x288 with 1 Axes>"
            ],
            "image/png": "[encoded data removed]"
          },
          "metadata": {
            "needs_background": "light"
          }
        },
        {
          "output_type": "display_data",
          "data": {
            "text/plain": [
              "<Figure size 432x288 with 1 Axes>"
            ],
            "image/png": "[encoded data removed]"
          },
          "metadata": {
            "needs_background": "light"
          }
        },
        {
          "output_type": "display_data",
          "data": {
            "text/plain": [
              "<Figure size 432x288 with 1 Axes>"
            ],
            "image/png": "[encoded data removed]"
          },
          "metadata": {
            "needs_background": "light"
          }
        }
      ],
      "source": [
        "# Responda Aqui\n",
        "\n",
        "delta = [.5, 1, 2, 4]\n",
        "\n",
        "for d in delta:\n",
        "\n",
        "  bins = plt.hist(vonNeumann(100000,d)[0],200, density=True, stacked=True)[1]\n",
        "\n",
        "  plt.plot(bins, np.exp(-((bins)**4))/Norm_Const, label = 'Delta = {}'.format(d))\n",
        "  plt.legend(frameon=False,fontsize=10)\n",
        "  plt.xlabel(\"x\")\n",
        "  plt.ylabel(\"Rho(x)\")\n",
        "  plt.show()\n"
      ]
    },
    {
      "cell_type": "markdown",
      "id": "f88cb056",
      "metadata": {
        "tags": [
          "pergunta"
        ],
        "id": "f88cb056"
      },
      "source": [
        "(d) Para aferirmos a qualidade do nosso gerador podemos representar como função de $0.2<\\Delta<10.$, as quantidades, \n",
        "\\begin{align}\n",
        "\\left\\langle \\frac{e^{x^{4}-\\frac{x^{2}}{2}}}{\\sqrt{2\\pi}}\\right\\rangle _{\\rho}\t&= \\int dx\\rho(x)\\frac{e^{x^{4}-\\frac{x^{2}}{2}}}{\\sqrt{2\\pi}}\\approx\\frac{1}{M}\\sum_{n=1}^{M}\\frac{e^{x_{n}^{4}-\\frac{x_{n}^{2}}{2}}}{\\sqrt{2\\pi}}\\\\\n",
        "P(A)\t& =\\int P(A|x)E(x)dx\\approx\\frac{N_{\\text{A}}}{N}\n",
        "\\end{align}\n",
        "onde $N_{A}$ é o número de propostas aceites entre $N$ . Comente os resultados. Qual será o valor da constante $C(1)$? "
      ]
    },
    {
      "cell_type": "markdown",
      "id": "1b79a4f4",
      "metadata": {
        "tags": [
          "resposta"
        ],
        "id": "1b79a4f4"
      },
      "source": [
        "Responda Aqui\n",
        "\n",
        "A probabilidade de aceitação descresce com o aumento do valor de $\\Delta$ porque, apesar da área da distribuição $\\rho(x)$ compreendida pela função de escolha $E(x)$ ser cada vez maior, também aumentam as zonas que são compreendidas pela função de escolha mas que não pertencem à distribuição. Como a probabilidade de aceitação depende da razão $\\rho(x)/E(x)$, quanto maior é função de escolha relativamente à distribuição, menor será a aceitação.\n",
        "\n",
        "\n",
        "A estimativa da média parece oscilar bastante para valores de $\\Delta$ superiores a $4$. A partir deste valor, a probabilidade de aceitação cai para valores inferiores a $0.4$, o que sugere uma queda na qualidade do gerador."
      ]
    },
    {
      "cell_type": "code",
      "execution_count": null,
      "id": "e406263d",
      "metadata": {
        "tags": [
          "code"
        ],
        "colab": {
          "base_uri": "https://localhost:8080/",
          "height": 679
        },
        "id": "e406263d",
        "outputId": "fa010f37-bc24-48cb-cc4f-fb51d3dcf820"
      },
      "outputs": [
        {
          "output_type": "execute_result",
          "data": {
            "text/plain": [
              "[Text(0, 0.5, 'Estimativa da média'), Text(0.5, 0, '$\\\\Delta$')]"
            ]
          },
          "metadata": {},
          "execution_count": 10
        },
        {
          "output_type": "display_data",
          "data": {
            "text/plain": [
              "<Figure size 1008x792 with 2 Axes>"
            ],
            "image/png": "[encoded data removed]"
          },
          "metadata": {
            "needs_background": "light"
          }
        }
      ],
      "source": [
        "# Responda Aqui\n",
        "\n",
        "deltas = np.linspace(.2, 10, 50)\n",
        "M = 1000\n",
        "PA_values = []\n",
        "Avg_values = []\n",
        "\n",
        "\n",
        "\n",
        "for d in deltas:\n",
        "\n",
        "  Sum = 0\n",
        "  x_values, PA = vonNeumann(M, d)\n",
        "\n",
        "  PA_values.append(PA)\n",
        "\n",
        "  for x in x_values: \n",
        "    Sum += (np.exp(x**4 - (x**2)/2)) * (1/np.sqrt(2*np.pi))\n",
        "\n",
        "  Avg = Sum/M\n",
        "  Avg_values.append(Avg)\n",
        "\n",
        "\n",
        "\n",
        "\n",
        "\n",
        "\n",
        "fig,  [figT, figD] = plt.subplots(2, 1, constrained_layout=False, figsize=(14,11))\n",
        "\n",
        "figT.plot(deltas, PA_values, '.')\n",
        "figT.set(xlabel=\"$\\Delta$\", ylabel=\"Probabilidade de aceitação\")\n",
        "\n",
        "figD.plot(deltas, Avg_values, '.')\n",
        "figD.set(xlabel=\"$\\Delta$\", ylabel=\"Estimativa da média\")\n",
        "\n"
      ]
    },
    {
      "cell_type": "markdown",
      "id": "5de18b9e",
      "metadata": {
        "tags": [
          "pergunta"
        ],
        "id": "5de18b9e"
      },
      "source": [
        "2. Este método utiliza propostas exponenciais, $E(x)$,em $\\mathbb{R}$ com a distribuição \n",
        "\\begin{equation}\n",
        "E(x)=\\frac{e^{-\\frac{|x|}{\\lambda}}}{2\\lambda}.\n",
        "\\end{equation}\n",
        "(a) Escreva a expressão analítica da probabilidade de aceitação para cada $x$, $P(A|x)$ de modo a maximizar as aceitações."
      ]
    },
    {
      "cell_type": "markdown",
      "id": "6d56ef1f",
      "metadata": {
        "tags": [
          "resposta"
        ],
        "id": "6d56ef1f"
      },
      "source": [
        "Responda Aqui\n",
        "\n",
        "Através de um processo análogo ao da questão anterior, chegamos a \n",
        "\n",
        "$$\n",
        "P(A|x) = e^{-x^4 + \\frac{\\left | x \\right |}{\\lambda} + c}\n",
        "$$\n",
        "\n",
        "onde $c$ é uma constante obtida de forma a maximizar as aceitações  e equivale a \n",
        "\n",
        "$$\n",
        "c = -\\left(\\frac{1}{4\\lambda} \\right)^{\\frac{4}{3}} + \\frac{1}{\\lambda}\\left( \\frac{1}{4\\lambda}\\right)^{\\frac{1}{3}}\n",
        "$$"
      ]
    },
    {
      "cell_type": "markdown",
      "id": "64307535",
      "metadata": {
        "tags": [
          "pergunta"
        ],
        "id": "64307535"
      },
      "source": [
        "(b) Escreva uma função que gera $M$ eventos aleatórios com a distribuição $\\rho$ utilizando esta proposta."
      ]
    },
    {
      "cell_type": "markdown",
      "id": "37036283",
      "metadata": {
        "tags": [
          "resposta"
        ],
        "id": "37036283"
      },
      "source": [
        "Responda Aqui"
      ]
    },
    {
      "cell_type": "code",
      "execution_count": null,
      "id": "aeedc60b",
      "metadata": {
        "tags": [
          "code"
        ],
        "id": "aeedc60b"
      },
      "outputs": [],
      "source": [
        "# Responda Aqui\n",
        "\n",
        "def vonNeumann2(M, lamb):\n",
        "\n",
        "    final = np.array([])\n",
        "    N = 0\n",
        "    Na = 0\n",
        "    Lim = 10\n",
        "    c =   (1/(4*lamb)**(4/3)) - (1/lamb)*(1/(4*lamb)**(1/3))\n",
        "\n",
        "\n",
        "    while(final.size < M):\n",
        "\n",
        "        x = 0.5 * np.random.exponential(1/lamb, size=M)              \n",
        "        results, = np.where(rd.random_sample(M) < np.exp(-(x**4) - (1/lamb)*x + c))\n",
        "\n",
        "        N += len(x)\n",
        "        Na += len(results,)\n",
        "\n",
        "        results = x[results,]\n",
        "\n",
        "        final = np.concatenate((final,results))     \n",
        "\n",
        "    PA = (Na/N)\n",
        "\n",
        "    # print(f\"O número de propostas aceites corresponde a {PA*100} % das propostas totais para delta igual a {lamb}\")                   \n",
        "    return final[0:M], PA\n"
      ]
    },
    {
      "cell_type": "markdown",
      "id": "a191e2cf",
      "metadata": {
        "tags": [
          "pergunta"
        ],
        "id": "a191e2cf"
      },
      "source": [
        "(c) Compare o estimador da densidade de probabilidade de uma amostra quando se utiliza $\\lambda=2$."
      ]
    },
    {
      "cell_type": "markdown",
      "id": "706c038f",
      "metadata": {
        "tags": [
          "resposta"
        ],
        "id": "706c038f"
      },
      "source": [
        "Responda Aqui"
      ]
    },
    {
      "cell_type": "code",
      "execution_count": null,
      "id": "efdaa47d",
      "metadata": {
        "tags": [
          "code"
        ],
        "colab": {
          "base_uri": "https://localhost:8080/",
          "height": 285
        },
        "id": "efdaa47d",
        "outputId": "b32c33e2-ca94-4a5e-f89d-ebe83caa8bee"
      },
      "outputs": [
        {
          "output_type": "execute_result",
          "data": {
            "text/plain": [
              "[<matplotlib.lines.Line2D at 0x7fc6dfe53190>]"
            ]
          },
          "metadata": {},
          "execution_count": 14
        },
        {
          "output_type": "display_data",
          "data": {
            "text/plain": [
              "<Figure size 432x288 with 1 Axes>"
            ],
            "image/png": "[encoded data removed]"
          },
          "metadata": {
            "needs_background": "light"
          }
        }
      ],
      "source": [
        "# Responda Aqui\n",
        "\n",
        "lamb = 2\n",
        "\n",
        "n, bins, patches = plt.hist(vonNeumann2(10000,lamb)[0],200, density=True, stacked=True)\n",
        "plt.plot(bins,np.exp(-((bins)**4))/Csigma())"
      ]
    },
    {
      "cell_type": "markdown",
      "id": "de15e9cc",
      "metadata": {
        "tags": [
          "pergunta"
        ],
        "id": "de15e9cc"
      },
      "source": [
        "(d) Para aferirmos a qualidade do nosso gerador podemos representar as grandezas propostas na pergunta anterior como função de $0.1<\\lambda<10$. Comente os resultados obtidos e compare com o procedimento da pergunta anterior. "
      ]
    },
    {
      "cell_type": "markdown",
      "id": "4addcd9f",
      "metadata": {
        "tags": [
          "resposta"
        ],
        "id": "4addcd9f"
      },
      "source": [
        "Responda Aqui\n",
        "\n",
        "Diferente da pergunta anterior, a probabilidade de aceitação aumenta com o parâmetro variado. Desta vez, ao aumentar o valor de $\\lambda$, a função de escolha é achatada, de forma que compreende quase que inteiramente a distribuição. Por outras palavras, qualquer ponto escolhido no interior da função de escolha vai ter uma probabilidade cada vez maior de também pertencer à distribuição. \n",
        "\n",
        "Para valores de $\\lambda$ inferiores a $2$, a função de escolha, apesar de compreender a distribuição por completo, ainda compreende muitos pontos que não pertencem à distribuição, pelo que a probabilidade de aceitação é baixa e, consequentemente, a perfomance do gerador é ineficiente. Quando calculamos a estimativa da média para estes valores, vemos que esta oscila bastante pois os números gerados não se encaixam perfeitamente na distribuição pretendida. "
      ]
    },
    {
      "cell_type": "code",
      "execution_count": null,
      "id": "b501003b",
      "metadata": {
        "tags": [
          "code"
        ],
        "colab": {
          "base_uri": "https://localhost:8080/",
          "height": 679
        },
        "id": "b501003b",
        "outputId": "000643e0-57a4-457b-80c6-179696b7d410"
      },
      "outputs": [
        {
          "output_type": "execute_result",
          "data": {
            "text/plain": [
              "[Text(0, 0.5, 'Estimativa da média'), Text(0.5, 0, '$\\\\lambda$')]"
            ]
          },
          "metadata": {},
          "execution_count": 15
        },
        {
          "output_type": "display_data",
          "data": {
            "text/plain": [
              "<Figure size 1008x792 with 2 Axes>"
            ],
            "image/png": "[encoded data removed]"
          },
          "metadata": {
            "needs_background": "light"
          }
        }
      ],
      "source": [
        "# Responda Aqui\n",
        "\n",
        "lambdas = np.linspace(.2, 10, 80)\n",
        "M = 10000\n",
        "PA_values = []\n",
        "Avg_values = []\n",
        "\n",
        "\n",
        "for l in lambdas:\n",
        "\n",
        "  Sum = 0\n",
        "  x_values, PA = vonNeumann2(M, l)\n",
        "  PA_values.append(PA)\n",
        "\n",
        "  for x in x_values: \n",
        "    Sum += (np.exp(x**4 - (x**2)/2)) * (1/np.sqrt(2*np.pi))\n",
        "\n",
        "  Avg = Sum/M\n",
        "  Avg_values.append(Avg)\n",
        "\n",
        "\n",
        "\n",
        "\n",
        "fig,  [figT, figD] = plt.subplots(2, 1, constrained_layout=False, figsize=(14,11))\n",
        "\n",
        "figT.plot(lambdas, PA_values, '.')\n",
        "figT.set(xlabel=\"$\\lambda$\", ylabel=\"Probabilidade de aceitação\")\n",
        "\n",
        "figD.plot(lambdas, Avg_values, '.')\n",
        "figD.set(xlabel=\"$\\lambda$\", ylabel=\"Estimativa da média\")"
      ]
    },
    {
      "cell_type": "markdown",
      "id": "2b8c8658",
      "metadata": {
        "tags": [
          "pergunta"
        ],
        "id": "2b8c8658"
      },
      "source": [
        "### Exercicio 2: Amostragem por importância\n",
        "Considere o valor médio,$\\mu(a)=\\left\\langle e^{-ax}\\right\\rangle _{\\rho}$,podemos obter uma estimativa para este valor médio gerando uma amostra de $M$ variáveis aleatórias geradas com $\\rho(x)$. \n",
        "\n",
        "1. Escreva uma função que avalie o estimador da média com $M$ valores, $\\mu(a,M)$."
      ]
    },
    {
      "cell_type": "markdown",
      "id": "588b3d30",
      "metadata": {
        "tags": [
          "resposta"
        ],
        "id": "588b3d30"
      },
      "source": [
        "Responda Aqui"
      ]
    },
    {
      "cell_type": "code",
      "execution_count": null,
      "id": "0cd5b789",
      "metadata": {
        "tags": [
          "code"
        ],
        "colab": {
          "base_uri": "https://localhost:8080/"
        },
        "id": "0cd5b789",
        "outputId": "89c31804-4619-4c12-b248-d5c547fe7fb9"
      },
      "outputs": [
        {
          "output_type": "stream",
          "name": "stdout",
          "text": [
            "A estimativa da média é 1.1447127115646059 para a = 1\n"
          ]
        }
      ],
      "source": [
        "# Responda Aqui\n",
        "\n",
        "def EstimatedMean(a, M):\n",
        "  sum = 0 \n",
        "  x = vonNeumann(M, 2)[0]\n",
        "\n",
        "  for i in range(len(x)):\n",
        "    sum += (np.exp(-a*x[i])-sum)/(i+1)\n",
        "\n",
        "  return sum\n",
        "\n",
        "a = 1\n",
        "print(\"A estimativa da média é\", EstimatedMean(a, 1000), \"para a =\", a)"
      ]
    },
    {
      "cell_type": "markdown",
      "id": "58bb05e8",
      "metadata": {
        "tags": [
          "pergunta"
        ],
        "id": "58bb05e8"
      },
      "source": [
        "2. A função anterior devolve um resultado aleatório, $\\mu_{k}(a,M)$. Para caracterizar a dispersão desta variável, medimos desvio padrão de $K$ de medidas, \n",
        "\\begin{align}\n",
        "\\overline{\\mu(a,M)}\t&= \\frac{1}{K}\\sum_{k=1}^{K}\\mu_{k}(a,M)\\\\\n",
        "\\overline{\\mu^{2}(a,M)}\t&=\\frac{1}{K}\\sum_{k=1}^{K}\\mu_{k}^{2}(a,M)\\\\\n",
        "\\sigma\t&=\\sqrt{\\frac{K}{K-1}\\left(\\overline{\\mu^{2}(a,M)}-\\overline{\\mu(a,M)}^{2}\\right)}\n",
        "\\end{align}\n",
        "Represente a estimativa do desvio padrão para $a=1$ como função de $M$ para valores $M=1,2,4,8,16,32,64,128,256,512$ e $1024$. Qual é a dependência em $M$ que observa? Comente os resultados obtidos."
      ]
    },
    {
      "cell_type": "markdown",
      "id": "a6d97af4",
      "metadata": {
        "tags": [
          "resposta"
        ],
        "id": "a6d97af4"
      },
      "source": [
        "Responda Aqui\n",
        "\n",
        "Quanto mais pontos $M$ são utilizados para calcular o estimador $\\mu_{k}$ da média, menos dispersos os resultados vão estar entre si, o que equivale dizer que o seu desvio padrão é cada vez menor, de forma que estão cada vez mais próximos da média real. \n",
        "\n",
        "Este comportamento pode ser observado também no gráfico, onde para $M$ pequeno o desvio padrão é muito alto, decrescendo exponencialmente com o aumento de $M$.\n",
        "\n",
        "\n"
      ]
    },
    {
      "cell_type": "code",
      "execution_count": null,
      "id": "15b2bbb0",
      "metadata": {
        "tags": [
          "code"
        ],
        "colab": {
          "base_uri": "https://localhost:8080/",
          "height": 296
        },
        "id": "15b2bbb0",
        "outputId": "99729a9c-e35a-411b-8ef3-0458001217e4"
      },
      "outputs": [
        {
          "output_type": "execute_result",
          "data": {
            "text/plain": [
              "Text(0, 0.5, 'Desvio Padrão')"
            ]
          },
          "metadata": {},
          "execution_count": 20
        },
        {
          "output_type": "display_data",
          "data": {
            "text/plain": [
              "<Figure size 432x288 with 1 Axes>"
            ],
            "image/png": "[encoded data removed]"
          },
          "metadata": {
            "needs_background": "light"
          }
        }
      ],
      "source": [
        "# Responda Aqui\n",
        "\n",
        "def StandardDev(a,K,M):\n",
        "\n",
        "  std_dev = []\n",
        "  mu = 0\n",
        "  mu_sq = 0\n",
        "\n",
        "  for k in range(K):\n",
        "\n",
        "    s = EstimatedMean(a,M)\n",
        "    mu += s / K\n",
        "    mu_sq += s**2 / K\n",
        "\n",
        "    sigma = np.sqrt((K/(K-1)) * (mu_sq - mu**2))\n",
        "\n",
        "  return sigma\n",
        "\n",
        "M = [1,2,4,8,16,32,64,128,256,512,1024]\n",
        "\n",
        "\n",
        "plt.plot(M, [StandardDev(1,1000,m) for m in M], \".\")\n",
        "#plt.plot(M,StandardDev(1,100,1))\n",
        "plt.xlabel(\"M\")\n",
        "plt.ylabel(\"Desvio Padrão\")\n",
        "\n"
      ]
    },
    {
      "cell_type": "markdown",
      "id": "f9472886",
      "metadata": {
        "tags": [
          "pergunta"
        ],
        "id": "f9472886"
      },
      "source": [
        "3. Escolhendo $M=8192$, represente oito curvas de $\\mu_{k}(a,M)$ como função de $a$ no intervalo $[1,64]$ o que observa? Como interpreta os resultados?"
      ]
    },
    {
      "cell_type": "markdown",
      "id": "0888417f",
      "metadata": {
        "tags": [
          "resposta"
        ],
        "id": "0888417f"
      },
      "source": [
        "Responda Aqui"
      ]
    },
    {
      "cell_type": "code",
      "execution_count": null,
      "id": "c9e2cdbb",
      "metadata": {
        "tags": [
          "code"
        ],
        "id": "c9e2cdbb"
      },
      "outputs": [],
      "source": [
        "# Responda Aqui"
      ]
    },
    {
      "cell_type": "markdown",
      "id": "ebd4a004",
      "metadata": {
        "tags": [
          "pergunta"
        ],
        "id": "ebd4a004"
      },
      "source": [
        "## Exercicio 3: Volume da esfera:\n",
        "\n",
        "Em Física Estatística Clássica é fundamental calcular o volume de da hiperesfera em $D$ dimensões. Podemos estimar este volume através de um procedimento estocástico gerando pontos neste espaço a $D$ dimensões utilizando a distribuição $\\rho(x)$ em cada coordenada. Nesta formulação cada ponto é gerado com a distribuição:\n",
        "\\begin{equation}\n",
        "\\rho(x_{1},\\dots,x_{D})=\\prod_{n=1}^{D}\\rho(x_{n})\n",
        "\\end{equation}\n",
        "O volume da hiperesfera pode ser obtido através do cáculo de uma média,\n",
        "\\begin{equation}\n",
        "V_{D}=\\left\\langle f\\right\\rangle _{\\rho}.\n",
        "\\end{equation}\n",
        "1. Determine a função $f(x_{1},\\dots,x_{D})$."
      ]
    },
    {
      "cell_type": "markdown",
      "id": "bd1d8059",
      "metadata": {
        "tags": [
          "resposta"
        ],
        "id": "bd1d8059"
      },
      "source": [
        "Responda Aqui\n",
        "\n",
        "Seja uma função $\\rho: [0,1]^{D} \\rightarrow (0,\\infty)$ com $\\int_{[0,1]^{D} }^{}\\rho dx = 1$\n",
        "\n",
        "$$\n",
        "V_{D} = \\int_{[0,1]^{D}}^{} \\chi_{S}(x) dx = \\int_{[0,1]^{D}}^{} \\rho \\cdot  \\frac{\\chi_{S}(x)}{\\rho} \\approx \\frac{1}{N} \\sum_{i=1}^{N} \\frac{\\chi_{S}(x_{i})}{\\rho(x_{i})}\n",
        "$$\n",
        "\n",
        "em que os pontos $x_{i} = (x_{1},...,x_{D})$ estão distribuídos com densidade $\\rho$ e a função $\\chi_{S}$ é função indicadora tal que se $x_{1}^2 + ... + x_{D}^2 \\leq  1 $ é $1$ e $0$ caso contrário.\n",
        "\n",
        "Portanto,\n",
        "\n",
        "$$\n",
        "f(x_{1},...,x_{D}) =  \\frac{\\chi_{S}(x_{1},...,x_{D})}{\\rho(x_{1},...,x_{D})}\n",
        "$$\n",
        "\n"
      ]
    },
    {
      "cell_type": "code",
      "execution_count": null,
      "id": "b4e469c1",
      "metadata": {
        "tags": [
          "code"
        ],
        "id": "b4e469c1"
      },
      "outputs": [],
      "source": [
        "# Responda Aqui"
      ]
    },
    {
      "cell_type": "markdown",
      "id": "d2e6def5",
      "metadata": {
        "tags": [
          "pergunta"
        ],
        "id": "d2e6def5"
      },
      "source": [
        "2. Estime o volume usando este processo e compare com o resultado analítico,\n",
        "\\begin{equation}\n",
        "V_{D}(R)\t=R^{D}\\begin{cases}\n",
        "\\frac{\\pi^{D/2}}{(D/2)!} & D\\:\\text{par}\\\\\n",
        "\\frac{2\\left(\\frac{D-1}{2}!\\right)(4\\pi)^{\\frac{D-1}{2}}}{D!} & D\\,\\text{impar}\n",
        "\\end{cases}\n",
        "\\end{equation}\n",
        "representando o $\\ln(V_{D}(1))$ como função de $D$. Estime o erro de cada medida e represente no gráfico com barras de erro."
      ]
    },
    {
      "cell_type": "markdown",
      "id": "dd314320",
      "metadata": {
        "tags": [
          "resposta"
        ],
        "id": "dd314320"
      },
      "source": [
        "Responda Aqui"
      ]
    },
    {
      "cell_type": "code",
      "execution_count": 14,
      "id": "881bd984",
      "metadata": {
        "tags": [
          "code"
        ],
        "id": "881bd984",
        "colab": {
          "base_uri": "https://localhost:8080/"
        },
        "outputId": "42867fe0-71f8-4498-9e88-38cefd205761"
      },
      "outputs": [
        {
          "output_type": "stream",
          "name": "stdout",
          "text": [
            "Para R = 1, o volume de uma híperesfera com 3 dimensões é dado, analiticamente, por 4.1887902047863905 e através da média por 3.0299492993227615\n"
          ]
        }
      ],
      "source": [
        "# Responda Aqui\n",
        "\n",
        "def f_aux(x):\n",
        "    return x * x\n",
        "\n",
        "def f(f_aux, R, num_dimen, N=100):\n",
        "\n",
        "\n",
        "  Xss = []\n",
        "  rho_val = []\n",
        "\n",
        "  volume = (2 * R) ** num_dimen\n",
        "  xs = np.zeros((num_dimen, N))             # Definir N pontos no domínio para cada uma das dimensões \n",
        "  \n",
        "  for i in range(num_dimen):\n",
        "    #xs[i] = vonNeumann(1000, 4)    \n",
        "    xs[i] = R * np.random.rand(N)           # Gerar um domínio a partir de uma distribuição uniforme\n",
        "\n",
        "  for j in range(N):                        # Percorrer a enésima coordenada\n",
        "    sum = 0\n",
        "    x = []\n",
        "    rho = 1\n",
        "\n",
        "    for i in range(num_dimen):\n",
        "      comp = xs[i][j]\n",
        "      x.append(comp)             \n",
        "      sum += f_aux(comp)\n",
        "\n",
        "    if sum <= R ** 2:                    # Verificar se a coordenada escolhida se encontra no interior da esfera \n",
        "        Xs = 1 \n",
        "    else:\n",
        "        Xs = 0\n",
        "\n",
        "\n",
        "    for k in x:\n",
        "      s = np.exp(-((k)**4))/Norm_Const   # Calcular o valor da distribuição na coordenada através do produtório\n",
        "      rho *= s\n",
        "      rho_val.append(rho)\n",
        "\n",
        "    rho_val.append(rho)\n",
        "    Xss.append(Xs)\n",
        "\n",
        "\n",
        "\n",
        "  return rho_val, Xss\n",
        "\n",
        "\n",
        "def VolumeFromMean(f_aux, R, num_dimen, N=100000):\n",
        "  sum = 0 \n",
        "  rho_val, Xss = f(f_aux, R, num_dimen, N=100000)\n",
        "\n",
        "  for i in range(N):\n",
        "   sum += (Xss[i]/rho_val[i]-sum)/(i+1)\n",
        "\n",
        "  return sum\n",
        "\n",
        "\n",
        "def VolumeAnalyticalResult(R, D):\n",
        "  if D % 2 == 0:\n",
        "    vd = R ** D * (np.pi**(D/2)/np.math.factorial(D/2))\n",
        "  else:\n",
        "    vd = R ** D * ((2 * np.math.factorial((D-1)/2) * (4 * np.pi)**((D-1)/2))/np.math.factorial(D))\n",
        "  return vd\n",
        "\n",
        "D = 3\n",
        "\n",
        "print(f\"Para R = 1, o volume de uma híperesfera com {D} dimensões é dado, analiticamente, por {VolumeAnalyticalResult(1,D)} e através da média por {VolumeFromMean(f_aux, 1, D, 10)}\")\n",
        "\n"
      ]
    },
    {
      "cell_type": "markdown",
      "id": "5059d9db",
      "metadata": {
        "tags": [
          "pergunta"
        ],
        "id": "5059d9db"
      },
      "source": [
        "3. Será que este procedimento é melhor que uma integração do volume usando a regra do trapézio? Será que o benefício depende da dimensionalidade? "
      ]
    },
    {
      "cell_type": "markdown",
      "id": "2e5b3ff4",
      "metadata": {
        "tags": [
          "resposta"
        ],
        "id": "2e5b3ff4"
      },
      "source": [
        "Responda Aqui"
      ]
    },
    {
      "cell_type": "code",
      "execution_count": null,
      "id": "2d810084",
      "metadata": {
        "tags": [
          "code"
        ],
        "id": "2d810084"
      },
      "outputs": [],
      "source": [
        "# Responda Aqui"
      ]
    },
    {
      "cell_type": "markdown",
      "id": "c57dff1a",
      "metadata": {
        "tags": [
          "sorte"
        ],
        "id": "c57dff1a"
      },
      "source": [
        "### Bom Trabalho"
      ]
    }
  ],
  "metadata": {
    "celltoolbar": "Tags",
    "kernelspec": {
      "display_name": "Python 3 (ipykernel)",
      "language": "python",
      "name": "python3"
    },
    "language_info": {
      "codemirror_mode": {
        "name": "ipython",
        "version": 3
      },
      "file_extension": ".py",
      "mimetype": "text/x-python",
      "name": "python",
      "nbconvert_exporter": "python",
      "pygments_lexer": "ipython3",
      "version": "3.9.13"
    },
    "colab": {
      "provenance": [],
      "collapsed_sections": []
    }
  },
  "nbformat": 4,
  "nbformat_minor": 5
}