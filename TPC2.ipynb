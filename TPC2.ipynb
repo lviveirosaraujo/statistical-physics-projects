{
  "cells": [
    {
      "cell_type": "markdown",
      "id": "532e0b55",
      "metadata": {
        "tags": [
          "header"
        ],
        "id": "532e0b55"
      },
      "source": [
        "# TPC2 - Processos de Markov\n",
        "\n",
        "## Atenção:\n",
        "• Não deve escrever o seu nome nem nenhum código identificador em nenhum sítio. \n",
        "\n",
        "• Deve entregar ESTE Notebook de Jupyter.\n",
        "\n",
        "• O trabalho é individual. Podem e devem haver discussões com colegas mas o resultado entregue é individual. \n",
        "\n",
        "• Não deve acrescentar ou apagar nenhuma célula.\n",
        "\n",
        "• Todas as explicações devem ser claras e concisas. \n",
        "\n",
        "• É preferível fazer menos e fazer bem que muito e mal. \n",
        "\n",
        "• O pacote numba pode diminuir o tempo de cálculo. \n",
        "\n",
        "• A não verificação de alguma destas regras leva ao anulamento e exclusão da prova.\n",
        "\n",
        "### Exercício 1: Matrizes de Markov\n",
        "\n",
        "Considere a matriz de $Markov,M_{i,j}=P(i,\\Delta t|j)$ que representa a probabilidade de um sistema transitar de um estado $j$ para um estado $i$ em $\\Delta t$. Considerando que a matriz tem a forma tridiagonal e dimensão $N$,\n",
        "\\begin{align*}\n",
        "M_{i,i+1} & =U_{i}\\\\\n",
        "M_{i+1,i} & =L_{i}\\\\\n",
        "M_{i,i} & =1-\\sum_{j\\neq i}M_{j,i}\\qquad0\\le i\\le N-1\n",
        "\\end{align*}\n",
        "com $U_{-1}=0$ e $L_{N-1}=0$."
      ]
    },
    {
      "cell_type": "code",
      "execution_count": 28,
      "id": "e96056e0",
      "metadata": {
        "tags": [
          "header"
        ],
        "id": "e96056e0"
      },
      "outputs": [],
      "source": [
        "# Importe os Módulos Necessários\n",
        "\n",
        "import numpy as np\n",
        "import matplotlib.pyplot as plt"
      ]
    },
    {
      "cell_type": "markdown",
      "id": "e3f0400f",
      "metadata": {
        "tags": [
          "pergunta"
        ],
        "id": "e3f0400f"
      },
      "source": [
        "1. Considere que $N=10$, $L_{i}=0.1+i/(3N)$ e $U_{i}=0.1+(i+1)/(3N)$\n",
        ". \n",
        "\n",
        "    a) Escreva uma função que devolve a matriz pretendida."
      ]
    },
    {
      "cell_type": "code",
      "execution_count": 29,
      "id": "ab75a988",
      "metadata": {
        "tags": [
          "code"
        ],
        "id": "ab75a988"
      },
      "outputs": [],
      "source": [
        "# Responda Aqui\n",
        "\n",
        "def MatrixGenerator(N):\n",
        "\n",
        "  M = np.zeros([N,N])\n",
        "\n",
        "  for i in range(N-1):\n",
        "\n",
        "    M[i][i+1] = 0.1 + (i+1)/(3*N)\n",
        "    M[i+1][i] = 0.1 + i/(3*N)  \n",
        "    M[i][i] = 1 - np.sum(M[:,i])\n",
        "\n",
        "  M[-1][-1] = 1 - np.sum(M[:,-1])\n",
        "\n",
        "  return M"
      ]
    },
    {
      "cell_type": "markdown",
      "id": "09c7de9f",
      "metadata": {
        "tags": [
          "pergunta"
        ],
        "id": "09c7de9f"
      },
      "source": [
        "1. b) Verifique que é $l_{i}=1$ é vector próprio à esquerda com valor próprio 1."
      ]
    },
    {
      "cell_type": "markdown",
      "id": "596b5b4a",
      "metadata": {
        "tags": [
          "resposta"
        ],
        "id": "596b5b4a"
      },
      "source": [
        "Responda Aqui"
      ]
    },
    {
      "cell_type": "code",
      "execution_count": 30,
      "id": "4b9d7452",
      "metadata": {
        "tags": [
          "code"
        ],
        "colab": {
          "base_uri": "https://localhost:8080/"
        },
        "id": "4b9d7452",
        "outputId": "713db8ba-b608-41e3-df50-1bfb2616794a"
      },
      "outputs": [
        {
          "output_type": "stream",
          "name": "stdout",
          "text": [
            "[[0. 0. 0. 0. 0. 0. 0. 0. 0. 0.]]\n"
          ]
        }
      ],
      "source": [
        "# Responda Aqui\n",
        "\n",
        "N = 10\n",
        "l = np.ones([1,N])\n",
        "M = MatrixGenerator(N)\n",
        "lamb = 1\n",
        "\n",
        "print(np.dot(l,M) - lamb * l)    # Verificação da igualdade M . l = lamb . l\n"
      ]
    },
    {
      "cell_type": "markdown",
      "id": "01e74f5a",
      "metadata": {
        "id": "01e74f5a"
      },
      "source": [
        "1. c) Diagonalize a matriz à esquerda ( \n",
        "    $l_{i}^{\\alpha}M_{ij}=\\lambda_{\\alpha}l_{j}^{\\alpha}$  )\n",
        "    e à direita ($M_{ij}r_{j}^{\\lambda}=\\lambda_{\\alpha}r_{i}^{\\lambda}$).\n",
        "    Note que dependendo do algoritmo de diagonalização usado os vectores\n",
        "    podem não vir correctamente normalizados. É comum escolher como normalização:\n",
        "    \\begin{align*}\n",
        "    r_{i}^{\\alpha} & \\rightarrow\\frac{r_{i}^{\\alpha}}{\\sum_{j}r_{j}^{\\alpha}} & \\text{se} \\,\\lambda_{\\alpha}=1\\\\\n",
        "    l_{i}^{\\alpha} & \\rightarrow1 & \\text{se} \\, \\lambda_{\\alpha}=1\\\\\n",
        "    l_{i}^{\\alpha} & \\rightarrow\\frac{l_{i}^{\\alpha}}{\\sum_{j}l_{j}^{\\alpha}r_{j}^{\\alpha}} & \\text{se}\\, \\lambda_{\\alpha}\\neq1.\n",
        "    \\end{align*}\n",
        "    Quantos valores próprios iguais à unidade existem?"
      ]
    },
    {
      "cell_type": "markdown",
      "id": "b990fc4f",
      "metadata": {
        "tags": [
          "resposta"
        ],
        "id": "b990fc4f"
      },
      "source": [
        "Responda Aqui"
      ]
    },
    {
      "cell_type": "code",
      "execution_count": 31,
      "id": "2279dd66",
      "metadata": {
        "tags": [
          "code"
        ],
        "colab": {
          "base_uri": "https://localhost:8080/"
        },
        "id": "2279dd66",
        "outputId": "c74108aa-dc1d-4cb3-fb1f-2f4c1ed8fe32"
      },
      "outputs": [
        {
          "output_type": "stream",
          "name": "stdout",
          "text": [
            "Existe 1 valor próprio à esquerda iguais à unidade\n",
            "Existe 1 valor próprio à direita iguais à unidade\n"
          ]
        }
      ],
      "source": [
        "# Responda Aqui\n",
        "\n",
        "N = 10\n",
        "M = MatrixGenerator(N)\n",
        "\n",
        "\n",
        "R_Matrix = np.linalg.eig(M)[1]                                          # Matriz dos vetores próprios da matriz de transição M à direita\n",
        "D_MatrixR = np.dot(np.linalg.inv(R_Matrix), np.dot(M,R_Matrix))         # Matriz dos valores próprios da matriz de transição M à direita\n",
        "\n",
        "L_Matrix = np.linalg.eig(M.T)[1]                                        # Matriz dos vetores próprios da matriz de transição M à esquerda\n",
        "D_MatrixL = np.dot(np.linalg.inv(L_Matrix), np.dot(M.T, L_Matrix))      # Matriz dos valores próprios da matriz de transição M à esquerda\n",
        "\n",
        "\n",
        "\n",
        "\n",
        "\n",
        "\n",
        "\n",
        "# Processo de Normalização\n",
        "\n",
        "\n",
        "diag_l = D_MatrixL.diagonal()                                                 # Criar um array com autovalores à esquerda a partir da diagonal da matriz D\n",
        "diag_r = D_MatrixR.diagonal()  \n",
        "\n",
        "index_l1 = []   \n",
        "               \n",
        "for i in range(len(diag_l)):                                                  # Retornar os índices onde o autovalor à esquerda não é unitário\n",
        "  if np.round(diag_l[i], decimals = 4) != 1.00:\n",
        "    index_l1.append(i)\n",
        "\n",
        "index_l2 = np.where(np.round(diag_l, decimals = 2) == 1.00)  \n",
        "index_r = np.where(np.round(diag_r, decimals = 2) == 1.00)\n",
        "\n",
        "\n",
        "for i in range(len(index_l1)):\n",
        "  j = index_l1[i]\n",
        "  L_Matrix[:,j] = L_Matrix[:,j] / np.sum(np.dot(L_Matrix[:,j], R_Matrix[:,j])) \n",
        "\n",
        "for i in range(len(index_l2)):\n",
        "  j = index_l2[0][i]\n",
        "  L_Matrix[:,j] = np.ones(len(L_Matrix[:,j]))\n",
        " \n",
        "for i in range(len(index_r)):\n",
        "  j = index_r[0][i]\n",
        "  R_Matrix[:,j] = R_Matrix[:,j] / np.sum(R_Matrix[:,j])\n",
        "\n",
        "\n",
        "\n",
        "\n",
        "\n",
        "\n",
        "print(f\"Existe {len(index_l2)} valor próprio à esquerda iguais à unidade\")\n",
        "print(f\"Existe {len(index_r)} valor próprio à direita iguais à unidade\")"
      ]
    },
    {
      "cell_type": "markdown",
      "id": "485adb62",
      "metadata": {
        "tags": [
          "pergunta"
        ],
        "id": "485adb62"
      },
      "source": [
        "1. d) Verifique que podemos gerar as relações de ortogonalidade: \n",
        "\\begin{align*}\n",
        "\\sum_{i}r_{i}^{\\alpha}l_{i}^{\\beta} & =\\delta_{\\alpha\\beta}\\\\\n",
        "\\sum_{\\alpha}r_{i}^{\\alpha}l_{j}^{\\alpha} & =\\delta_{ij}\n",
        "\\end{align*}"
      ]
    },
    {
      "cell_type": "markdown",
      "id": "11eb9b49",
      "metadata": {
        "tags": [
          "resposta"
        ],
        "id": "11eb9b49"
      },
      "source": [
        "Responda Aqui"
      ]
    },
    {
      "cell_type": "code",
      "execution_count": 32,
      "id": "e2b2b88c",
      "metadata": {
        "tags": [
          "code"
        ],
        "colab": {
          "base_uri": "https://localhost:8080/"
        },
        "id": "e2b2b88c",
        "outputId": "09442a22-6275-451c-f913-d8331376e17b"
      },
      "outputs": [
        {
          "output_type": "stream",
          "name": "stdout",
          "text": [
            "A primeira relação de ortogonalidade é verificada por \n",
            " [[ 1.00000000e+00 -6.10622664e-16 -8.32667268e-17  4.44089210e-16\n",
            "   0.00000000e+00  4.16333634e-16 -4.44089210e-16  3.88578059e-16\n",
            "   2.77555756e-17  3.05311332e-16]\n",
            " [-2.49800181e-16  1.00000000e+00 -1.58206781e-15  4.16333634e-16\n",
            "  -6.93889390e-17  1.80411242e-16  5.55111512e-16 -3.05311332e-16\n",
            "  -2.77555756e-16  1.66533454e-16]\n",
            " [-5.82867088e-16  1.27675648e-15  1.00000000e+00  1.16573418e-15\n",
            "  -4.57966998e-16  6.93889390e-16  0.00000000e+00 -2.77555756e-16\n",
            "  -6.66133815e-16  1.24900090e-16]\n",
            " [-1.11022302e-16  3.88578059e-16 -1.98452366e-15  1.00000000e+00\n",
            "  -8.32667268e-17  6.66133815e-16 -1.77635684e-15  1.80411242e-16\n",
            "   1.38777878e-16 -5.55111512e-17]\n",
            " [-2.77555756e-17 -4.16333634e-16  1.41553436e-15  2.13717932e-15\n",
            "   1.00000000e+00 -5.49560397e-15  5.10702591e-15  5.55111512e-17\n",
            "   1.52655666e-16 -7.49400542e-16]\n",
            " [ 6.93889390e-17  4.85722573e-16 -1.22124533e-15 -5.55111512e-16\n",
            "   4.60742555e-15  1.00000000e+00 -6.66133815e-15 -1.49880108e-15\n",
            "   1.83186799e-15 -2.77555756e-16]\n",
            " [ 2.77555756e-17  3.46944695e-16  1.17961196e-16  1.66533454e-16\n",
            "  -7.42461648e-16  5.48172618e-16  1.00000000e+00  1.07205911e-15\n",
            "   3.19189120e-16  4.51028104e-17]\n",
            " [ 5.55111512e-17  4.71844785e-16  5.55111512e-17  5.68989300e-16\n",
            "  -1.55431223e-15  1.12410081e-15 -1.19293464e-13  1.00000000e+00\n",
            "   4.86589935e-15  2.49800181e-16]\n",
            " [ 2.08166817e-16 -2.22044605e-16 -3.88578059e-16 -8.32667268e-17\n",
            "  -3.33066907e-16  3.33066907e-16 -1.21014310e-14 -9.22872889e-16\n",
            "   1.00000000e+00 -2.40779618e-15]\n",
            " [-3.88578059e-16 -3.33066907e-16  2.01227923e-16  6.10622664e-16\n",
            "  -2.63677968e-16  2.77555756e-16  5.60662627e-15  1.38777878e-15\n",
            "   1.60982339e-15  1.00000000e+00]]\n",
            "\n",
            " A segunda relação de ortogonalidade é verificada por \n",
            " [[ 1.00000000e+00 -3.46250806e-15  3.46944695e-16  1.24900090e-15\n",
            "   3.12944115e-15  5.99520433e-15  9.49240686e-15  1.18793864e-14\n",
            "   1.25455202e-14  1.31561428e-14]\n",
            " [-9.71098202e-15  1.00000000e+00 -3.99680289e-15  6.66133815e-16\n",
            "   6.35602682e-15  5.35682609e-15  5.41233725e-15  7.18869408e-15\n",
            "   9.82547377e-15  1.11022302e-14]\n",
            " [-7.79931675e-15 -1.60982339e-15  1.00000000e+00 -1.66533454e-16\n",
            "   2.05391260e-15  6.99440506e-15  7.21644966e-15  7.38298311e-15\n",
            "   7.16093851e-15  7.43849426e-15]\n",
            " [-5.89805982e-15 -3.41393580e-15 -1.05471187e-15  1.00000000e+00\n",
            "   1.15185639e-15  3.66373598e-15  8.49320614e-15  8.65973959e-15\n",
            "   6.57807142e-15  4.95437025e-15]\n",
            " [-4.96477859e-15 -6.02295991e-15 -1.83186799e-15 -3.74700271e-16\n",
            "   1.00000000e+00  3.44169138e-15  3.92741395e-15  6.03683770e-15\n",
            "   6.80011603e-15  6.16173779e-15]\n",
            " [-4.37150316e-15 -2.42861287e-15 -3.27515792e-15 -8.32667268e-17\n",
            "   1.77635684e-15  1.00000000e+00  3.88578059e-15  3.21964677e-15\n",
            "   5.21804822e-15  6.60582700e-15]\n",
            " [-4.74620343e-15 -7.49400542e-16 -3.07739945e-15 -1.52655666e-15\n",
            "   1.77635684e-15  2.08166817e-15  1.00000000e+00  3.55271368e-15\n",
            "   4.21884749e-15  4.69069228e-15]\n",
            " [-2.88657986e-15 -2.09554596e-15 -1.27675648e-15 -9.85322934e-16\n",
            "   1.12063137e-15  2.04697370e-15  2.47024623e-15  1.00000000e+00\n",
            "   3.83026943e-15  3.03923553e-15]\n",
            " [-2.30371278e-15 -2.47024623e-15 -3.60822483e-16  8.60422844e-16\n",
            "   3.05311332e-16  1.74860126e-15  1.92901251e-15  1.77635684e-15\n",
            "   1.00000000e+00  2.98372438e-15]\n",
            " [-2.34534614e-15 -2.02615702e-15 -8.32667268e-16  7.91033905e-16\n",
            "   1.16573418e-15  5.75928194e-16  1.11022302e-15  2.12330153e-15\n",
            "   2.19269047e-15  1.00000000e+00]]\n"
          ]
        }
      ],
      "source": [
        "# Responda Aqui\n",
        "\n",
        "D1 = np.zeros([N,N])\n",
        "D2 = np.zeros([N,N])\n",
        "\n",
        "for i in range(N):\n",
        "  for j in range(N):\n",
        "    D1[i][j] = np.dot(L_Matrix[:,j], R_Matrix[:,i])                  \n",
        "    D2[i][j] = np.dot(L_Matrix[j,:], R_Matrix[i,:])       \n",
        "    \n",
        "               \n",
        "      \n",
        "print(\"A primeira relação de ortogonalidade é verificada por \\n\", D1)\n",
        "print(\"\\n A segunda relação de ortogonalidade é verificada por \\n\", D2)"
      ]
    },
    {
      "cell_type": "markdown",
      "id": "c2d34451",
      "metadata": {
        "tags": [
          "pergunta"
        ],
        "id": "c2d34451"
      },
      "source": [
        "1. e) Verifique que a matriz podemos escrever a matriz $M$ como,\n",
        "      \\begin{equation*} \n",
        "      M_{ij}=\\sum_{\\alpha}r_{i}^{\\alpha}\\lambda_{\\alpha}l_{j}^{\\alpha}.\n",
        "      \\end{equation*}\n"
      ]
    },
    {
      "cell_type": "markdown",
      "id": "c558c21f",
      "metadata": {
        "tags": [
          "resposta"
        ],
        "id": "c558c21f"
      },
      "source": [
        "Responda Aqui"
      ]
    },
    {
      "cell_type": "code",
      "execution_count": 33,
      "id": "4da7af1e",
      "metadata": {
        "tags": [
          "code"
        ],
        "colab": {
          "base_uri": "https://localhost:8080/"
        },
        "id": "4da7af1e",
        "outputId": "5a6531ad-adb3-4a86-b4b9-d7bab754f588"
      },
      "outputs": [
        {
          "output_type": "stream",
          "name": "stdout",
          "text": [
            "O resultado obtido foi a matriz \n",
            " [[ 0.9      0.13333 -0.       0.       0.       0.       0.       0.\n",
            "   0.       0.     ]\n",
            " [ 0.1      0.73333  0.16667  0.       0.       0.       0.       0.\n",
            "   0.       0.     ]\n",
            " [-0.       0.13333  0.66667  0.2      0.       0.       0.       0.\n",
            "   0.       0.     ]\n",
            " [-0.      -0.       0.16667  0.6      0.23333  0.       0.       0.\n",
            "   0.       0.     ]\n",
            " [-0.      -0.      -0.       0.2      0.53333  0.26667  0.       0.\n",
            "   0.       0.     ]\n",
            " [-0.      -0.      -0.      -0.       0.23333  0.46667  0.3      0.\n",
            "   0.       0.     ]\n",
            " [-0.      -0.      -0.      -0.       0.       0.26667  0.4      0.33333\n",
            "   0.       0.     ]\n",
            " [-0.      -0.      -0.      -0.       0.       0.       0.3      0.33333\n",
            "   0.36667  0.     ]\n",
            " [-0.      -0.      -0.       0.       0.       0.       0.       0.33333\n",
            "   0.26667  0.4    ]\n",
            " [-0.      -0.      -0.       0.       0.       0.       0.       0.\n",
            "   0.36667  0.6    ]]\n",
            "\n",
            " E a matriz de transição original é \n",
            " [[0.9     0.13333 0.      0.      0.      0.      0.      0.      0.\n",
            "  0.     ]\n",
            " [0.1     0.73333 0.16667 0.      0.      0.      0.      0.      0.\n",
            "  0.     ]\n",
            " [0.      0.13333 0.66667 0.2     0.      0.      0.      0.      0.\n",
            "  0.     ]\n",
            " [0.      0.      0.16667 0.6     0.23333 0.      0.      0.      0.\n",
            "  0.     ]\n",
            " [0.      0.      0.      0.2     0.53333 0.26667 0.      0.      0.\n",
            "  0.     ]\n",
            " [0.      0.      0.      0.      0.23333 0.46667 0.3     0.      0.\n",
            "  0.     ]\n",
            " [0.      0.      0.      0.      0.      0.26667 0.4     0.33333 0.\n",
            "  0.     ]\n",
            " [0.      0.      0.      0.      0.      0.      0.3     0.33333 0.36667\n",
            "  0.     ]\n",
            " [0.      0.      0.      0.      0.      0.      0.      0.33333 0.26667\n",
            "  0.4    ]\n",
            " [0.      0.      0.      0.      0.      0.      0.      0.      0.36667\n",
            "  0.6    ]]\n"
          ]
        }
      ],
      "source": [
        "# Responda Aqui\n",
        "\n",
        "M1 = np.zeros([N,N])\n",
        "\n",
        "for i in range(N):\n",
        "  for j in range(N):\n",
        "\n",
        "    M1[i][j] = np.dot(R_Matrix[i,:], np.dot(D_MatrixR, L_Matrix.T[:,j]))\n",
        "\n",
        "\n",
        "print(\"O resultado obtido foi a matriz \\n\", np.round(M1, decimals = 5))\n",
        "print(\"\\n E a matriz de transição original é \\n\", np.round(M, decimals = 5))\n"
      ]
    },
    {
      "cell_type": "markdown",
      "id": "5b6172a2",
      "metadata": {
        "tags": [
          "pergunta"
        ],
        "id": "5b6172a2"
      },
      "source": [
        "1. f) Fazendo evoluir a probabilidade através da multiplicação da matriz de Markov, represente $P_{i}(t)$ para $t\\in\\{0,1,4,16,64,128\\}$ considerando que $P_{i}(0)=\\delta_{i,5}$."
      ]
    },
    {
      "cell_type": "markdown",
      "id": "032c05af",
      "metadata": {
        "tags": [
          "resposta"
        ],
        "id": "032c05af"
      },
      "source": [
        "Responda Aqui"
      ]
    },
    {
      "cell_type": "code",
      "execution_count": 34,
      "id": "4051f34d",
      "metadata": {
        "tags": [
          "code"
        ],
        "colab": {
          "base_uri": "https://localhost:8080/",
          "height": 282
        },
        "id": "4051f34d",
        "outputId": "6193c08c-7ec5-485c-b4fa-4133212b4ef9"
      },
      "outputs": [
        {
          "output_type": "display_data",
          "data": {
            "text/plain": [
              "<Figure size 432x288 with 1 Axes>"
            ],
            "image/png": "[encoded data removed]"
          },
          "metadata": {
            "needs_background": "light"
          }
        }
      ],
      "source": [
        "# Responda Aqui\n",
        "\n",
        "N = 10\n",
        "T = [0, 1, 4, 16, 64, 128]\n",
        "M = MatrixGenerator(N)\n",
        "\n",
        "def p_initial(i,N):\n",
        "  p = np.zeros([N])  \n",
        "  p[i] = 1\n",
        "\n",
        "  return p\n",
        "                \n",
        "def CalculateProbability1(M, p, t):\n",
        "  count = 0\n",
        "\n",
        "  while count < t:\n",
        "    p = np.dot(M, p)\n",
        "    count += 1\n",
        "\n",
        "  return p\n",
        "\n",
        "\n",
        "p = p_initial(5,N)\n",
        "\n",
        "for t in T: \n",
        "  p_axis = CalculateProbability1(M, p, t)\n",
        "  i_axis = np.arange(N)\n",
        "\n",
        "  \n",
        "  plt.plot(i_axis, p_axis, label = f\"t = {t}\")\n",
        "  plt.legend(frameon=False,fontsize=10)\n",
        "  plt.ylabel(\"$P_{i}$\", fontsize=12)\n",
        "  plt.xlabel(\"i\", fontsize=12)\n"
      ]
    },
    {
      "cell_type": "markdown",
      "id": "29169e0a",
      "metadata": {
        "tags": [
          "pergunta"
        ],
        "id": "29169e0a"
      },
      "source": [
        "1. g) Compare os resultados anteriores com os gerados por,\n",
        "$$ P_{i}(t)=\\sum_{\\alpha}a_{\\alpha}\\lambda_{\\alpha}^{t}r_{i}^{\\alpha}\n",
        "$$\n",
        "com $a_{\\alpha}=\\sum_{i}l_{i}^{\\alpha}P_{i}(0).$ Porque motivo estas\n",
        "expressões são iguais?\n"
      ]
    },
    {
      "cell_type": "markdown",
      "id": "f2411bf6",
      "metadata": {
        "tags": [
          "resposta"
        ],
        "id": "f2411bf6"
      },
      "source": [
        "Responda Aqui"
      ]
    },
    {
      "cell_type": "code",
      "execution_count": 35,
      "id": "355fd059",
      "metadata": {
        "tags": [
          "code"
        ],
        "colab": {
          "base_uri": "https://localhost:8080/",
          "height": 282
        },
        "id": "355fd059",
        "outputId": "fb3728a6-f86f-45f3-c058-774f5e97e220"
      },
      "outputs": [
        {
          "output_type": "display_data",
          "data": {
            "text/plain": [
              "<Figure size 432x288 with 1 Axes>"
            ],
            "image/png": "[encoded data removed]"
          },
          "metadata": {
            "needs_background": "light"
          }
        }
      ],
      "source": [
        "# Responda Aqui\n",
        "\n",
        "def CalculateProbability2(p, t):\n",
        "\n",
        "  if t == 0: \n",
        "    p = np.dot(np.dot(L_Matrix.T, p), R_Matrix.T)\n",
        "  \n",
        "  if t != 0:\n",
        "\n",
        "    c = np.dot(np.dot(L_Matrix.T, p) , np.power(D_MatrixR, t))             \n",
        "    p = np.dot(c, R_Matrix.T)\n",
        "\n",
        "  return p\n",
        "\n",
        "\n",
        "for t in T: \n",
        "  p_axis = CalculateProbability2(p, t)\n",
        "  i_axis = np.arange(N)\n",
        "\n",
        "  \n",
        "  plt.plot(i_axis, p_axis, label = f\"t = {t}\")\n",
        "  plt.legend(frameon=False,fontsize=10)\n",
        "  plt.ylabel(\"$P_{i}$\", fontsize=12)\n",
        "  plt.xlabel(\"i\", fontsize=12)"
      ]
    },
    {
      "cell_type": "markdown",
      "id": "e87ce1ec",
      "metadata": {
        "tags": [
          "pergunta"
        ],
        "id": "e87ce1ec"
      },
      "source": [
        "1. h) Estime o tempo que demora a distribuição a atingir a distribuição\n",
        "assimptótica. Compare com o tempo associado ao segundo maior valor\n",
        "próprio. "
      ]
    },
    {
      "cell_type": "markdown",
      "id": "5cdce2b1",
      "metadata": {
        "tags": [
          "resposta"
        ],
        "id": "5cdce2b1"
      },
      "source": [
        "Responda Aqui"
      ]
    },
    {
      "cell_type": "code",
      "execution_count": 36,
      "id": "fd61e097",
      "metadata": {
        "tags": [
          "code"
        ],
        "colab": {
          "base_uri": "https://localhost:8080/",
          "height": 333
        },
        "id": "fd61e097",
        "outputId": "b113b07b-9318-431c-cdda-096b313d55e1"
      },
      "outputs": [
        {
          "output_type": "stream",
          "name": "stdout",
          "text": [
            "O tempo necessário para atingir a distribuição assintótica é aproximadamente t = 200.\n",
            "O tempo associado ao segundo maior valor próprio é t = 46.90056612138109.\n"
          ]
        },
        {
          "output_type": "display_data",
          "data": {
            "text/plain": [
              "<Figure size 432x288 with 1 Axes>"
            ],
            "image/png": "[encoded data removed]"
          },
          "metadata": {
            "needs_background": "light"
          }
        }
      ],
      "source": [
        "# Responda Aqui\n",
        "\n",
        "T1 = [128, 150, 250,  500, 5000]\n",
        "\n",
        "for t in T1: \n",
        "  p_axis = CalculateProbability2(p, t)\n",
        "  i_axis = np.arange(N)\n",
        "\n",
        "\n",
        "  plt.plot(i_axis, p_axis, label = f\"t = {t}\")\n",
        "  plt.legend(frameon=False,fontsize=10)\n",
        "  plt.ylabel(\"$P_{i}$\", fontsize=12)\n",
        "  plt.xlabel(\"i\", fontsize=12)\n",
        "  plt.title(\"$\\lambda = 1$\", fontsize=12)\n",
        "\n",
        "\n",
        "\n",
        "d_sort = np.sort(diag_r)  \n",
        "lamb2 = d_sort[-2]\n",
        "\n",
        "tau2 = 1 / np.log(1/lamb2)          # Tempo de relaxação associado ao segundo maior valor próprio\n",
        "\n",
        "print(\"O tempo necessário para atingir a distribuição assintótica é aproximadamente t = 200.\")\n",
        "print(f\"O tempo associado ao segundo maior valor próprio é t = {tau2}.\")"
      ]
    },
    {
      "cell_type": "markdown",
      "id": "6aed2edc",
      "metadata": {
        "tags": [
          "pergunta"
        ],
        "id": "6aed2edc"
      },
      "source": [
        "2. Considere a mesma matriz anterior mas com \n",
        "$$\n",
        "U_{3}=0,U_{4}=1,L_{4}=1,L_{5}=0\n",
        "$$\n",
        "    a) Será que esta distribuição atinge um regime estacionário? Represente probabilidade $P_{4}(t)$ e $P_{5}(t)$ para $0\\le t\\leq512$ e duas condições iniciais: $P_{i}^{A}(0)=\\delta_{0,i}$ e $P_{i}^{B }(0)=\\delta_{9,i}$. "
      ]
    },
    {
      "cell_type": "markdown",
      "id": "ea26d2d7",
      "metadata": {
        "tags": [
          "resposta"
        ],
        "id": "ea26d2d7"
      },
      "source": [
        "Responda Aqui"
      ]
    },
    {
      "cell_type": "code",
      "execution_count": 37,
      "id": "ab9c155c",
      "metadata": {
        "tags": [
          "code"
        ],
        "colab": {
          "base_uri": "https://localhost:8080/",
          "height": 679
        },
        "id": "ab9c155c",
        "outputId": "2eaad351-409c-4123-9e11-f805ecbad906"
      },
      "outputs": [
        {
          "output_type": "display_data",
          "data": {
            "text/plain": [
              "<Figure size 720x360 with 1 Axes>"
            ],
            "image/png": "[encoded data removed]"
          },
          "metadata": {
            "needs_background": "light"
          }
        },
        {
          "output_type": "display_data",
          "data": {
            "text/plain": [
              "<Figure size 720x360 with 1 Axes>"
            ],
            "image/png": "[encoded data removed]"
          },
          "metadata": {
            "needs_background": "light"
          }
        }
      ],
      "source": [
        "# Responda Aqui\n",
        "\n",
        "\n",
        "N = 10\n",
        "M = MatrixGenerator(N)\n",
        "M2 = M.copy()\n",
        "t_axis = np.linspace(0,512,1000)\n",
        "\n",
        "M2[3][4] = 0\n",
        "M2[4][5] = 1\n",
        "M2[5][4] = -1\n",
        "M2[6][5] = 0\n",
        "\n",
        "\n",
        "p_a = p_initial(0, N)        \n",
        "p_b = p_initial(9, N)\n",
        "\n",
        "p4_axisa = []\n",
        "p4_axisb = []\n",
        "p5_axisa = []\n",
        "p5_axisb = []\n",
        "\n",
        "\n",
        "for t in t_axis:\n",
        "\n",
        "  p4a = CalculateProbability1(M2, p_a, t)[4]       # Calculo da probabilidade de partindo do estado inicial A chegar ao estado 4 após t passos\n",
        "  p4b = CalculateProbability1(M2, p_b, t)[4]       # Calculo da probabilidade de partindo do estado inicial B chegar ao estado 4 após t passos\n",
        "\n",
        "  p5a = CalculateProbability1(M2, p_a, t)[5]       # Calculo da probabilidade de partindo do estado inicial A chegar ao estado 5 após t passos\n",
        "  p5b = CalculateProbability1(M2, p_b, t)[5]       # Calculo da probabilidade de partindo do estado inicial B chegar ao estado 5 após t passos\n",
        "\n",
        "\n",
        "  p4_axisa.append(p4a)\n",
        "  p4_axisb.append(p4b)\n",
        "  p5_axisa.append(p5a)\n",
        "  p5_axisb.append(p5b)\n",
        "\n",
        "\n",
        "plt.figure(figsize = (10,5))\n",
        "plt.plot(t_axis, p4_axisb, color = \"b\", label = \"$P_{0}$ = B\")\n",
        "plt.plot(t_axis, p4_axisa, color = \"r\", label = \"$P_{0}$ = A\")\n",
        "plt.legend(frameon=True,fontsize=10)\n",
        "plt.ylabel(\"$P_{4}$(t)\", fontsize=12)\n",
        "plt.xlabel(\"t\", fontsize=12)\n",
        "plt.show()\n",
        "\n",
        "plt.figure(figsize = (10,5))\n",
        "plt.plot(t_axis, p5_axisb, color = \"b\", label = \"$P_{0}$ = B\")\n",
        "plt.plot(t_axis, p5_axisa, color = \"r\", label = \"$P_{0}$ = A\")\n",
        "plt.legend(frameon=True,fontsize=10)\n",
        "plt.ylabel(\"$P_{5}$(t)\", fontsize=12)\n",
        "plt.xlabel(\"t\", fontsize=12)\n",
        "plt.show()\n"
      ]
    },
    {
      "cell_type": "markdown",
      "id": "0cd4c7d0",
      "metadata": {
        "tags": [
          "pergunta"
        ],
        "id": "0cd4c7d0"
      },
      "source": [
        "2. b) Discuta o que observou e a sua relação com o espectro de valores próprios. "
      ]
    },
    {
      "cell_type": "markdown",
      "id": "40714575",
      "metadata": {
        "tags": [
          "resposta"
        ],
        "id": "40714575"
      },
      "source": [
        "Responda Aqui\n",
        "\n",
        "As probabilidades estão a aumentar cada vez mais para valores maiores de $t$, pelo que não existe um valor de $t$ a partir do qual as probabilidades se mantenham constantes. Além disso, para que se atingisse uma distribuição estacionária, era necessário que as probabilidades convergissem para um mesmo valor a partir de um certo $t$, uma vez que no regime estacionário a probabilidade de se estar num estado $i$ não depende do estado inicial. Por esta razão, podemos dizer que esta distribuição não atinge um regime estacionário."
      ]
    },
    {
      "cell_type": "code",
      "execution_count": 38,
      "id": "4661845f",
      "metadata": {
        "tags": [
          "code"
        ],
        "colab": {
          "base_uri": "https://localhost:8080/",
          "height": 337
        },
        "id": "4661845f",
        "outputId": "2d598df6-a848-4fe6-f56a-7f0226b911b2"
      },
      "outputs": [
        {
          "output_type": "stream",
          "name": "stderr",
          "text": [
            "/usr/local/lib/python3.7/dist-packages/matplotlib/cbook/__init__.py:1317: ComplexWarning: Casting complex values to real discards the imaginary part\n",
            "  return np.asarray(x, float)\n"
          ]
        },
        {
          "output_type": "execute_result",
          "data": {
            "text/plain": [
              "Text(0.5, 0, '$i$')"
            ]
          },
          "metadata": {},
          "execution_count": 38
        },
        {
          "output_type": "display_data",
          "data": {
            "text/plain": [
              "<Figure size 432x288 with 1 Axes>"
            ],
            "image/png": "[encoded data removed]"
          },
          "metadata": {
            "needs_background": "light"
          }
        }
      ],
      "source": [
        "# Responda Aqui\n",
        "\n",
        "R_Matrix2 = np.linalg.eig(M2)[1]                                            # Matriz dos vetores próprios da 2ª matriz de transição M à direita\n",
        "D_Matrix2 = np.dot(np.linalg.inv(R_Matrix2), np.dot(M2,R_Matrix2))          # Matriz dos valores próprios da 2ª matriz de transição M \n",
        "\n",
        "\n",
        "eigval_axis1 = D_MatrixR.diagonal()\n",
        "eigval_axis2 = D_Matrix2.diagonal()\n",
        "i_axis = np.arange(N)\n",
        "\n",
        "\n",
        "plt.plot(i_axis, eigval_axis1, \".\", color = \"r\", label = \"1ª Matriz de Transição\")\n",
        "plt.plot(i_axis, eigval_axis2, \".\", color = \"b\", label = \"2ª Matriz de Transição\")\n",
        "plt.legend(frameon=True,fontsize=10)\n",
        "plt.ylabel(\"$\\lambda_{i}$\", fontsize=15)\n",
        "plt.xlabel(\"$i$\", fontsize=15)\n"
      ]
    },
    {
      "cell_type": "markdown",
      "id": "f24a94fa",
      "metadata": {
        "tags": [
          "pergunta"
        ],
        "id": "f24a94fa"
      },
      "source": [
        "2. c) Analise a situação em que a matriz deixa de ser tridiagonal, $L_{4}=L_{5}=1$,  $L_{6}=0$,  $U_{3}=U_{4}=U_{5}=0$ e $M_{4,6}=1$. Represente novamente $P_{4}(t)$ e $P_{5}(t)$ e compare com os valores o espectro de valores próprios. Note que como agora a matriz não é tridiagonal tem que recalcular a diagonal."
      ]
    },
    {
      "cell_type": "markdown",
      "id": "bef89dd3",
      "metadata": {
        "tags": [
          "resposta"
        ],
        "id": "bef89dd3"
      },
      "source": [
        "Responda Aqui\n",
        "\n",
        "A matriz original $M$ de transição possuia um vetor próprio tal que o seu valor próprio era $1$. Desta forma, podíamos dizer que existia um vetor tal que, quando multiplicado pela matriz $M$, não se alterava, caracterizando uma distribuição estacionária. Ao fazermos as alterações aos elementos da matriz $M$, esta deixou de possuir um vetor próprio tal que o seu valor próprio era $1$, apenas inferior, pelo que a distribuição não atinge o estado estacionário.\n",
        "\n"
      ]
    },
    {
      "cell_type": "code",
      "execution_count": 39,
      "id": "f62693ef",
      "metadata": {
        "tags": [
          "code"
        ],
        "colab": {
          "base_uri": "https://localhost:8080/",
          "height": 1000
        },
        "id": "f62693ef",
        "outputId": "41da7c94-995c-4b3d-87b8-b931659c8c04"
      },
      "outputs": [
        {
          "output_type": "stream",
          "name": "stderr",
          "text": [
            "/usr/local/lib/python3.7/dist-packages/matplotlib/cbook/__init__.py:1317: ComplexWarning: Casting complex values to real discards the imaginary part\n",
            "  return np.asarray(x, float)\n"
          ]
        },
        {
          "output_type": "display_data",
          "data": {
            "text/plain": [
              "<Figure size 432x288 with 1 Axes>"
            ],
            "image/png": "[encoded data removed]"
          },
          "metadata": {
            "needs_background": "light"
          }
        },
        {
          "output_type": "display_data",
          "data": {
            "text/plain": [
              "<Figure size 720x360 with 1 Axes>"
            ],
            "image/png": "[encoded data removed]"
          },
          "metadata": {
            "needs_background": "light"
          }
        },
        {
          "output_type": "display_data",
          "data": {
            "text/plain": [
              "<Figure size 720x360 with 1 Axes>"
            ],
            "image/png": "[encoded data removed]"
          },
          "metadata": {
            "needs_background": "light"
          }
        }
      ],
      "source": [
        "# Responda Aqui\n",
        "\n",
        "M3 = M.copy()\n",
        "\n",
        "M3[5][4] = 1\n",
        "M3[6][5] = 1\n",
        "M3[7][6] = 0\n",
        "M3[3][4] = 0\n",
        "M3[4][5] = 0\n",
        "M3[5][6] = 0\n",
        "M3[4][6] = 1\n",
        "\n",
        "R_Matrix3 = np.linalg.eig(M3)[1]                                            # Matriz dos vetores próprios da 3ª matriz de transição M à direita\n",
        "D_Matrix3 = np.dot(np.linalg.inv(R_Matrix3), np.dot(M3,R_Matrix3))          # Matriz dos valores próprios da 3ª matriz de transição M \n",
        "\n",
        "p_a = p_initial(0, N)        \n",
        "p_b = p_initial(9, N)\n",
        "\n",
        "p4_axisa = []\n",
        "p4_axisb = []\n",
        "p5_axisa = []\n",
        "p5_axisb = []\n",
        "\n",
        "\n",
        "for t in t_axis:\n",
        "\n",
        "  p4a = CalculateProbability1(M3, p_a, t)[4]       # Calculo da probabilidade de partindo do estado inicial A chegar ao estado 4 após t passos\n",
        "  p4b = CalculateProbability1(M3, p_b, t)[4]       # Calculo da probabilidade de partindo do estado inicial B chegar ao estado 4 após t passos\n",
        "\n",
        "  p5a = CalculateProbability1(M3, p_a, t)[5]       # Calculo da probabilidade de partindo do estado inicial A chegar ao estado 5 após t passos\n",
        "  p5b = CalculateProbability1(M3, p_b, t)[5]       # Calculo da probabilidade de partindo do estado inicial B chegar ao estado 5 após t passos\n",
        "\n",
        "\n",
        "  p4_axisa.append(p4a)\n",
        "  p4_axisb.append(p4b)\n",
        "  p5_axisa.append(p5a)\n",
        "  p5_axisb.append(p5b)\n",
        "\n",
        "\n",
        "\n",
        "eigval_axis1 = D_MatrixR.diagonal()\n",
        "eigval_axis3 = D_Matrix3.diagonal()\n",
        "i_axis = np.arange(N)\n",
        "\n",
        "\n",
        "\n",
        "\n",
        "\n",
        "\n",
        "plt.title(\"Representação dos valores próprios $\\lambda_{i}$ para cada matriz M de transição\")\n",
        "plt.plot(i_axis, eigval_axis1, \"x\", color = \"b\", label = \"1ª Matriz de Transição\")\n",
        "plt.plot(i_axis, eigval_axis3, \"x\", color = \"r\", label = \"3ª Matriz de Transição\")\n",
        "plt.legend(frameon=True,fontsize=10)\n",
        "plt.ylabel(\"$\\lambda_{i}$\", fontsize=15)\n",
        "plt.xlabel(\"$i$\", fontsize=15)\n",
        "plt.show()\n",
        "\n",
        "\n",
        "plt.figure(figsize = (10,5))\n",
        "plt.plot(t_axis, p4_axisb, color = \"b\", label = \"$P_{0}$ = B\")\n",
        "plt.plot(t_axis, p4_axisa, color = \"r\", label = \"$P_{0}$ = A\")\n",
        "plt.legend(frameon=True,fontsize=10)\n",
        "plt.ylabel(\"$P_{4}$(t)\", fontsize=12)\n",
        "plt.xlabel(\"t\", fontsize=12)\n",
        "plt.show()\n",
        "\n",
        "plt.figure(figsize = (10,5))\n",
        "plt.plot(t_axis, p5_axisb, color = \"b\", label = \"$P_{0}$ = B\")\n",
        "plt.plot(t_axis, p5_axisa, color = \"r\", label = \"$P_{0}$ = A\")\n",
        "plt.legend(frameon=True,fontsize=10)\n",
        "plt.ylabel(\"$P_{5}$(t)\", fontsize=12)\n",
        "plt.xlabel(\"t\", fontsize=12)\n",
        "plt.show()\n",
        "\n",
        "\n",
        "\n",
        "\n",
        "\n"
      ]
    },
    {
      "cell_type": "markdown",
      "id": "04c72300",
      "metadata": {
        "tags": [
          "pergunta"
        ],
        "id": "04c72300"
      },
      "source": [
        "### Exercício 2:  Difusão e *drift*\n",
        "\n",
        "Considere a matriz Markov tridiagonal com $U_{i}=1/3$ e $L_{i}=1/3$. \n",
        "\n",
        "1. Implemente uma rotina que simula a evolução temporal estocástica da posição de $M$ *caminhantes* governada por esta matriz numa caixa de tamanho $N$. As posições iniciais dos caminhantes, o tempo de evolução e o tamanho da caixa devem ser argumentos da função. A função deve retornar as posições dos caminhantes. "
      ]
    },
    {
      "cell_type": "markdown",
      "id": "0a25ec6a",
      "metadata": {
        "tags": [
          "resposta"
        ],
        "id": "0a25ec6a"
      },
      "source": [
        "Responda Aqui"
      ]
    },
    {
      "cell_type": "code",
      "execution_count": 40,
      "id": "162466ca",
      "metadata": {
        "tags": [
          "code"
        ],
        "id": "162466ca"
      },
      "outputs": [],
      "source": [
        "# Responda Aqui\n",
        "\n",
        "def TridiagonalMatrix(N):\n",
        "\n",
        "  M = np.zeros([N,N])\n",
        "\n",
        "  for i in range(N-1):\n",
        "\n",
        "    M[i][i+1] = 1/3\n",
        "    M[i+1][i] = 1/4\n",
        "    M[i][i] = 1 - np.sum(M[:,i])\n",
        "\n",
        "  M[-1][-1] = 1 - np.sum(M[:,-1])\n",
        "\n",
        "  return M\n",
        "\n",
        "def p_initial(i,N):\n",
        "  p = np.zeros([N])  \n",
        "  p[i] = 1\n",
        "\n",
        "  return p\n",
        "\n",
        "# Função que retorna aposição dos caminhantes\n",
        "\n",
        "def GetPosition(p, t, N):            \n",
        "\n",
        "  M = TridiagonalMatrix(N)\n",
        "\n",
        "\n",
        "  R_Matrix = np.linalg.eig(M)[1]   \n",
        "  L_Matrix = np.linalg.eig(M.T)[1]                                            \n",
        "  D_MatrixR = np.dot(np.linalg.inv(R_Matrix), np.dot(M,R_Matrix))         \n",
        "                                    \n",
        "  if t == 0: \n",
        "    p = np.dot(np.dot(L_Matrix.T, p), R_Matrix.T)\n",
        "  \n",
        "  if t != 0:\n",
        "    c = np.dot(np.dot(L_Matrix.T, p) , np.power(D_MatrixR, t))             \n",
        "    p = np.dot(c, R_Matrix.T)\n",
        "\n",
        "  return p\n",
        "\n"
      ]
    },
    {
      "cell_type": "markdown",
      "id": "21db7057",
      "metadata": {
        "tags": [
          "pergunta"
        ],
        "id": "21db7057"
      },
      "source": [
        "2. Partindo de uma distribuição inicial dos caminhantes $P_{i}(0)=\\delta_{i,0}$, represente o estimador da distribuição de probabilidade para os tempos $t\\in\\{0,4,16,64,256,1024\\}$ e $N=32$. Caracterize as posições do caminhantes pelas suas coordenadas intensivas $x_{i}=i/N$. "
      ]
    },
    {
      "cell_type": "markdown",
      "id": "8b07549e",
      "metadata": {
        "tags": [
          "resposta"
        ],
        "id": "8b07549e"
      },
      "source": [
        "Responda Aqui"
      ]
    },
    {
      "cell_type": "code",
      "execution_count": 41,
      "id": "89cb5003",
      "metadata": {
        "tags": [
          "code"
        ],
        "colab": {
          "base_uri": "https://localhost:8080/",
          "height": 282
        },
        "id": "89cb5003",
        "outputId": "50f77929-956c-4d47-f063-9f50f0fe4e8b"
      },
      "outputs": [
        {
          "output_type": "display_data",
          "data": {
            "text/plain": [
              "<Figure size 432x288 with 1 Axes>"
            ],
            "image/png": "[encoded data removed]"
          },
          "metadata": {
            "needs_background": "light"
          }
        }
      ],
      "source": [
        "# Responda Aqui\n",
        "\n",
        "N = 32\n",
        "p = p_initial(0,N)\n",
        "T = [0, 4, 16, 64, 256, 1024]\n",
        "\n",
        "\n",
        "\n",
        "for t in T:\n",
        "  p_axis = GetPosition(p, t, N)\n",
        "  xi_axis = np.arange(N) / N\n",
        "\n",
        "  plt.plot(xi_axis, p_axis, label = f\"t = {t}\")\n",
        "  plt.legend(frameon=False,fontsize=10)\n",
        "  plt.ylabel(\"$P_{i}$\", fontsize=12)\n",
        "  plt.xlabel(\"$x_{i}$\", fontsize=12)\n",
        "  # plt.show()"
      ]
    },
    {
      "cell_type": "markdown",
      "id": "f9649b7e",
      "metadata": {
        "tags": [
          "pergunta"
        ],
        "id": "f9649b7e"
      },
      "source": [
        "3. Se mudar o tamanho da caixa para o dobro, talvez consegua rescalar os tempos t'=\\tau t de modo a que as curvas da alínea anterior coincidam com as desta caixa. Mostre que isto é verdade e descubra a escala de tempo adequada. "
      ]
    },
    {
      "cell_type": "markdown",
      "id": "c6c0a7a5",
      "metadata": {
        "tags": [
          "resposta"
        ],
        "id": "c6c0a7a5"
      },
      "source": [
        "Responda Aqui"
      ]
    },
    {
      "cell_type": "code",
      "execution_count": 42,
      "id": "3e9495ab",
      "metadata": {
        "tags": [
          "code"
        ],
        "colab": {
          "base_uri": "https://localhost:8080/",
          "height": 282
        },
        "id": "3e9495ab",
        "outputId": "0690ead9-7ea4-44cb-eb95-71debca753a9"
      },
      "outputs": [
        {
          "output_type": "display_data",
          "data": {
            "text/plain": [
              "<Figure size 432x288 with 1 Axes>"
            ],
            "image/png": "[encoded data removed]"
          },
          "metadata": {
            "needs_background": "light"
          }
        }
      ],
      "source": [
        "# Responda Aqui\n",
        "\n",
        "N = 64\n",
        "p = p_initial(0,N)\n",
        "T = [0, 4, 16, 64, 256, 1024]\n",
        "\n",
        "tau = 2.5\n",
        "T_aux = np.array(T) * tau\n",
        "\n",
        "\n",
        "for t in T_aux:\n",
        "  p_axis = GetPosition(p, t, N)\n",
        "  xi_axis = np.arange(N) / N\n",
        "\n",
        "  plt.plot(xi_axis, p_axis, label = f\"t = {t}\")\n",
        "  plt.legend(frameon=False,fontsize=10)\n",
        "  plt.ylabel(\"$P_{i}$\", fontsize=12)\n",
        "  plt.xlabel(\"$x_{i}$\", fontsize=12)\n",
        "  # plt.show()\n",
        "\n"
      ]
    },
    {
      "cell_type": "markdown",
      "id": "7b334b4e",
      "metadata": {
        "tags": [
          "pergunta"
        ],
        "id": "7b334b4e"
      },
      "source": [
        "4. Escreva uma rotina que gere esta matriz de Markov com dimensão $N$ e a diagonalize. Represente o tempo associado ao segundo maior valor próprio, $\\tau=1/\\ln\\left(1/\\lambda\\right)$, como função de $N$. Que lei observa? Qual a justificação para o aparecimento desta lei?"
      ]
    },
    {
      "cell_type": "markdown",
      "id": "9124af4b",
      "metadata": {
        "tags": [
          "resposta"
        ],
        "id": "9124af4b"
      },
      "source": [
        "Responda Aqui"
      ]
    },
    {
      "cell_type": "code",
      "execution_count": 43,
      "id": "808686fb",
      "metadata": {
        "tags": [
          "code"
        ],
        "id": "808686fb"
      },
      "outputs": [],
      "source": [
        "# Responda Aqui"
      ]
    },
    {
      "cell_type": "markdown",
      "id": "4deb78bf",
      "metadata": {
        "tags": [
          "pergunta"
        ],
        "id": "4deb78bf"
      },
      "source": [
        "5. Analise o caso em que $U_{i}=1/4$ e $L_{i}=1/3$."
      ]
    },
    {
      "cell_type": "markdown",
      "id": "bf7032fd",
      "metadata": {
        "tags": [
          "resposta"
        ],
        "id": "bf7032fd"
      },
      "source": [
        "Responda Aqui"
      ]
    },
    {
      "cell_type": "code",
      "execution_count": 44,
      "id": "38bbcfcd",
      "metadata": {
        "tags": [
          "code"
        ],
        "id": "38bbcfcd"
      },
      "outputs": [],
      "source": [
        "# Responda Aqui"
      ]
    },
    {
      "cell_type": "markdown",
      "id": "65ec760f",
      "metadata": {
        "tags": [
          "pergunta"
        ],
        "id": "65ec760f"
      },
      "source": [
        "### Exercício 3: Correlações\n",
        "\n",
        "Partindo da matriz de Markov tridiagonal com $U_{i}=1/3$ e $L_{i}=1/3$.\n",
        "1. Determine a distribuição assimptótica para $N=16$ e calcule o valor\n",
        "médio da posição intensiva,\n",
        "$$\n",
        "\\left\\langle x\\right\\rangle =\\sum_{i}x_{i}P_{i},\n",
        "$$\n",
        "e determine o tempo de termalização desta matriz . \n"
      ]
    },
    {
      "cell_type": "markdown",
      "id": "51eaf90a",
      "metadata": {
        "tags": [
          "resposta"
        ],
        "id": "51eaf90a"
      },
      "source": [
        "Responda Aqui"
      ]
    },
    {
      "cell_type": "code",
      "execution_count": 45,
      "id": "758e90e8",
      "metadata": {
        "tags": [
          "code"
        ],
        "id": "758e90e8"
      },
      "outputs": [],
      "source": [
        "# Responda Aqui"
      ]
    },
    {
      "cell_type": "markdown",
      "id": "f8d354a2",
      "metadata": {
        "tags": [
          "pergunta"
        ],
        "id": "f8d354a2"
      },
      "source": [
        "2. Descartando um tempo inicial para garantir a termalização a distribuição deverá tender para a distribuição assimptótica. A partir desse ponto deverá tornar-se independente do tempo e igual à assimptótica (frequentemente considera-se $2\\tau$). Escreva uma rotina que faz a evolução temporal de $K$ caminhantes por um tempo longo e devolve $T$ posições consecutivas após a termalização $\\{x(2\\tau+1),\\dots\\}$ para cada caminhante . "
      ]
    },
    {
      "cell_type": "markdown",
      "id": "b343437a",
      "metadata": {
        "tags": [
          "resposta"
        ],
        "id": "b343437a"
      },
      "source": [
        "Responda Aqui"
      ]
    },
    {
      "cell_type": "code",
      "execution_count": 46,
      "id": "7b3a3221",
      "metadata": {
        "tags": [
          "code"
        ],
        "id": "7b3a3221"
      },
      "outputs": [],
      "source": [
        "# Responda Aqui"
      ]
    },
    {
      "cell_type": "markdown",
      "id": "4dbd4d6e",
      "metadata": {
        "tags": [
          "pergunta"
        ],
        "id": "4dbd4d6e"
      },
      "source": [
        "3. Utilizando a rotina escrita na alínea anterior, é possível obter a\n",
        "média da posição nos primeiros$M_{T}$ tempos consecutivos de um caminhante,\n",
        "$$\n",
        "\\overline{x}_{k}(M_{T})=\\frac{1}{M_{T}}\\sum_{t=0}^{M_{T}-1}x_{i}\n",
        "$$\n",
        "devolvidos numa chamada da rotina para o caminhante $k$. Podemos\n",
        "calcular o desvio ao valor médio,\n",
        "$$\n",
        "\\sigma(M_{T})=\\sqrt{\\frac{1}{K}\\sum_{k=0}^{K-1}\\left(\\overline{x}_{k}(M_{T})-\\left\\langle x\\right\\rangle \\right)^{2}}\n",
        "$$\n",
        "que estima a barra de erro de $\\overline{x}_{k}(M_{T})$ de cada caminhante.\n",
        "Represente esta grandeza para $M_{T}=\\{1,4,16,64,256,1024,4096,16384\\}$.\n",
        "Como interpreta o que observa?\n",
        "\n",
        "\n"
      ]
    },
    {
      "cell_type": "markdown",
      "id": "a530164a",
      "metadata": {
        "tags": [
          "resposta"
        ],
        "id": "a530164a"
      },
      "source": [
        "Responda Aqui"
      ]
    },
    {
      "cell_type": "code",
      "execution_count": 47,
      "id": "711b6687",
      "metadata": {
        "tags": [
          "code"
        ],
        "id": "711b6687"
      },
      "outputs": [],
      "source": [
        "# Responda Aqui"
      ]
    },
    {
      "cell_type": "markdown",
      "id": "f49479cc",
      "metadata": {
        "tags": [
          "Fim"
        ],
        "id": "f49479cc"
      },
      "source": [
        "Bom Trabalho"
      ]
    }
  ],
  "metadata": {
    "celltoolbar": "Tags",
    "kernelspec": {
      "display_name": "Python 3 (ipykernel)",
      "language": "python",
      "name": "python3"
    },
    "language_info": {
      "codemirror_mode": {
        "name": "ipython",
        "version": 3
      },
      "file_extension": ".py",
      "mimetype": "text/x-python",
      "name": "python",
      "nbconvert_exporter": "python",
      "pygments_lexer": "ipython3",
      "version": "3.9.13"
    },
    "colab": {
      "provenance": [],
      "collapsed_sections": []
    }
  },
  "nbformat": 4,
  "nbformat_minor": 5
}