{
  "cells": [
    {
      "cell_type": "markdown",
      "metadata": {
        "tags": [
          "header"
        ],
        "id": "Gf3H0MgZ6-Ah"
      },
      "source": [
        "# TPC2 - Física Estatística\n",
        "\n",
        "# Atenção: \n",
        "* Não deve escrever o seu nome nem nenhum código identificador em nenhum sítio.\n",
        "* O trabalho é individual. Podem e devem haver discussões com colegas mas o resultado entregue é individual. \n",
        "* Deve entregar ESTE Notebook de Jupyter\n",
        "* Não deve acrescentar ou apagar nenhuma célula\n",
        "* Todas as explicações devem ser claras e concisas.\n",
        "* É preferível fazer menos e fazer bem que muito mal.\n",
        "* O pacote numba pode diminuir o tempo de cálculo. \n",
        "* A não verificação de alguma destas regras leva ao anulamento e exclusão da prova."
      ]
    },
    {
      "cell_type": "code",
      "execution_count": 12,
      "metadata": {
        "tags": [
          "header"
        ],
        "id": "DXlvEumv6-Al"
      },
      "outputs": [],
      "source": [
        "# Introduza aqui funcoes gerais\n",
        "\n",
        "import numpy as np\n",
        "import numpy.random as rd\n",
        "import random\n",
        "import matplotlib.pyplot as plt\n"
      ]
    },
    {
      "cell_type": "markdown",
      "metadata": {
        "tags": [
          "pergunta"
        ],
        "id": "Zbs8jD5-6-An"
      },
      "source": [
        "# Exercício 1\n",
        "Nas aulas discutimos a solução do modelo de Ising de campo médio de\n",
        "spin um ( $s_{i}=\\pm1,0$ ) com $N$ spins. Neste trabalho de casa vamos\n",
        "revisitá-lo numericamente. Considere o Hamiltoniano, \n",
        "\n",
        "\\begin{align}\n",
        "H & =\\frac{1}{N}\\sum_{i=1}^{N}\\sum_{j\\ne i}^{N}\\left(1-s_{i}s_{j}\\right)\n",
        "\\end{align}\n",
        "\n",
        "onde a magnetização é dada por $M=\\sum_{i=1}^{N}s_{i}$. Para este\n",
        "modelo a energia é função apenas da magnetização e do número de partículas.\n",
        "A densidade de estados do sistema é obtida usando o número de spins\n",
        "$s_{i}=+1$ ($N_{+}$), o número de spins $s_{i}=-1$ ($N_{-}$) e\n",
        "o número de spins $s_{i}=0$ ($N_{0}$): \n",
        "\\begin{align*}\n",
        "\\Omega(N_{+},N_{-},N_{0}) & =\\frac{N!}{N_{+}!N_{-}!N_{0}!} & N_{+} & =\\frac{N-N_{0}+M}{2} & N_{-} & =\\frac{N-N_{0}-M}{2}\n",
        "\\end{align*}\n",
        "Com esta parametrização,\n",
        "\\begin{equation*}\n",
        "\\Omega(M,N_{0})=\\frac{N!}{\\left(\\frac{N-N_{0}+M}{2}\\right)!\\left(\\frac{N-N_{0}-M}{2}\\right)!N_{0}!}\n",
        "\\end{equation*}\n",
        "onde $M\\in\\{-(N-N_{0}),-(N-N_{0})+2,\\dots,N-N_{0}-2,N-N_{0}\\}$.\n",
        "\n",
        "1 Calcule numericamente o valor médio exacto como função da temperatura\n",
        "do módulo da magnetização para $\\beta$ entre 0.1 e 1.5.\n",
        "\\begin{align*}\n",
        "\\left\\langle \\frac{|M|}{N}\\right\\rangle  & =\\sum_{M,N_{0}}\\frac{|M|}{N}\\Omega(M,N_{0})\\frac{e^{-\\beta E(M)}}{Z(\\beta)}\\\\\n",
        "Z(\\beta) & =\\sum_{M,N_{0}}\\Omega(M,N_{0})e^{-\\beta E(M)}\n",
        "\\end{align*}\n",
        "Sugestão: O cálculo da combinatórica envolve números muito grandes.\n",
        "O ideia é usar a fórmula de Stirling,\n",
        "\\begin{equation*}\n",
        "\\log(n!)=n\\log(n)-n+\\frac{1}{2}\\log(2\\pi n)\n",
        "\\end{equation*}\n",
        "e notar que o valor médio fica inalterado se deslocar a energia $-\\beta E(M)\\to-\\beta E(M)-C$\n",
        "nas exponenciais. Logo o ideal é calcular,\n",
        "\\begin{equation*}\n",
        "\\left\\langle \\frac{|M|}{N}\\right\\rangle =\\frac{\\sum_{M,N_{0}}\\frac{|M|}{N}\\Omega(M,N_{0})e^{-\\beta E(M)-C}}{\\sum_{M,N_{0}}\\Omega(M,N_{0})e^{-\\beta E(M)-C}}\n",
        "\\end{equation*}\n",
        "onde $C$ é o máximo de $\\ln\\Omega(M,N_{0})-\\beta E(M)$ para cada\n",
        "temperatura."
      ]
    },
    {
      "cell_type": "markdown",
      "metadata": {
        "tags": [
          "resposta"
        ],
        "id": "rdKB7nCm6-Ao"
      },
      "source": [
        "Responda aqui"
      ]
    },
    {
      "cell_type": "code",
      "execution_count": 16,
      "metadata": {
        "tags": [
          "code"
        ],
        "id": "TbRd5nBD6-Ap"
      },
      "outputs": [],
      "source": [
        "# Escreva aqui codigo\n",
        "\n",
        "# To-Do:\n",
        "# 1. Calcular Número de Estados\n",
        "# 2. Calcular Energia\n",
        "# 3. Calcular Função de Partição\n",
        "# 4. Calcular Magentização Média\n",
        "\n",
        "\n",
        "def StirlingApprox(n) -> float:\n",
        "  return n * np.log(n) - n + 0.5 * np.log(2* np.pi * n )\n",
        "\n",
        "\n",
        "def number_of_states(M:int,N_0:int) -> float:\n",
        "\n",
        "  if (M > (N_0 - N)) and (M < (N - N_0)) and (N_0 > 1):\n",
        "\n",
        "    N_p = (N - N_0 + M)/2\n",
        "    N_m = (N - N_0 - M)/2\n",
        "\n",
        "    Np_fact = StirlingApprox(N_p)\n",
        "    Nm_fact = StirlingApprox(N_m)\n",
        "    N0_fact = StirlingApprox(N_0)\n",
        "    N_fact = StirlingApprox(N)\n",
        "\n",
        "    return N_p, N_m, Np_fact, Nm_fact, N0_fact, N_fact, N_fact/(Np_fact * Nm_fact * N0_fact)\n",
        "\n",
        "  else:\n",
        "    return 0\n",
        "\n",
        "\n",
        "def Energy(M,N)-> float:\n",
        "  return  N - (M**2)/2 \n",
        "\n",
        "\n",
        "def max_C(M_l:list, N_0_l:list, beta):\n",
        "  C_list = []\n",
        "\n",
        "  for m in M_l:\n",
        "    for n0 in N_0_l:\n",
        "\n",
        "      Omega = number_of_states(m,n0)[-1]\n",
        "      E = Energy(m,N)\n",
        "      C = np.log(Omega) - beta * E\n",
        "\n",
        "      C_list.append(C)\n",
        "\n",
        "  return float(max(C_list)), C_list\n",
        "\n",
        "\n",
        "def Z_partition(N:int, N_0_l:list, M_l:list, beta:float, C:float) -> float:\n",
        "\n",
        "  sum = 0 \n",
        "\n",
        "  for m in M_l:\n",
        "    for n0 in N_0_l:\n",
        "\n",
        "      Omega = number_of_states(m,n0)[-1]\n",
        "      E = Energy(m,N)\n",
        "      exp = np.exp(-beta * E - C)\n",
        "\n",
        "      sum += Omega * exp\n",
        "\n",
        "  return sum\n",
        "\n",
        "\n",
        "def avg_magnetization(N:int, N_0_l:list, M_l:list, beta:list) -> float:\n",
        "\n",
        "  results = []\n",
        "   \n",
        "  for b in beta:\n",
        "\n",
        "    sum = 0 \n",
        "    C = max_C(M_l, N_0_l,b)[0]\n",
        "    Z = Z_partition(N, N_0_l, M_l, b, C) \n",
        " \n",
        "    for m in M_l:\n",
        "      for n in N_0_l:\n",
        "\n",
        "        Omega = number_of_states(m,n)[-1]\n",
        "        E = Energy(m,N)\n",
        "        exp = np.exp(-b * E - C)\n",
        "\n",
        "        sum += (abs(m)/N) * Omega * exp / Z\n",
        "\n",
        "    results.append(sum)\n",
        "\n",
        "  return sum\n"
      ]
    },
    {
      "cell_type": "markdown",
      "metadata": {
        "tags": [
          "pergunta"
        ],
        "id": "yIIUEWd56-Ap"
      },
      "source": [
        "2. Para cada temperatura a distribuição de probabilidades da magnetização\n",
        "é dada por,\n",
        "\\begin{equation}\n",
        "P_{\\beta}(M)=\\frac{\\sum_{N_{0}}e^{\\ln(\\Omega(M,N_{0}))-\\beta E(M)}}{Z(\\beta)}\\label{eq:exacta}\n",
        "\\end{equation}\n",
        "Gere uma amostra de valores aleatórios de $M$ com a distribução pretendida\n",
        "usando o método directo. Com esta amostra $\\{M_{1},M_{2},\\dots,M_{K}\\}$\n",
        "\n",
        "    a) Represente o histograma da amostra aleatória gerada e compare com a distribuição teórica para $\\beta\\in \\{0.1,0.25,0.5,0.6,0.7,0.75,0.8,0.9,1.0,1.1,1.2\\}.$"
      ]
    },
    {
      "cell_type": "markdown",
      "metadata": {
        "tags": [
          "resposta"
        ],
        "id": "yCR44rxG6-Aq"
      },
      "source": [
        "Responda aqui"
      ]
    },
    {
      "cell_type": "code",
      "execution_count": 17,
      "metadata": {
        "tags": [
          "code"
        ],
        "colab": {
          "base_uri": "https://localhost:8080/",
          "height": 380
        },
        "id": "VzFqnJyv6-Ar",
        "outputId": "121885ae-79b8-4cf6-f5e1-2ad7325e8191"
      },
      "outputs": [
        {
          "output_type": "error",
          "ename": "TypeError",
          "evalue": "ignored",
          "traceback": [
            "\u001b[0;31m---------------------------------------------------------------------------\u001b[0m",
            "\u001b[0;31mTypeError\u001b[0m                                 Traceback (most recent call last)",
            "\u001b[0;32m<ipython-input-17-22f0a279e3f8>\u001b[0m in \u001b[0;36m<module>\u001b[0;34m\u001b[0m\n\u001b[1;32m    116\u001b[0m \u001b[0;32mfor\u001b[0m \u001b[0mb\u001b[0m \u001b[0;32min\u001b[0m \u001b[0mbeta\u001b[0m\u001b[0;34m:\u001b[0m\u001b[0;34m\u001b[0m\u001b[0;34m\u001b[0m\u001b[0m\n\u001b[1;32m    117\u001b[0m \u001b[0;34m\u001b[0m\u001b[0m\n\u001b[0;32m--> 118\u001b[0;31m   \u001b[0mbins\u001b[0m \u001b[0;34m=\u001b[0m \u001b[0mplt\u001b[0m\u001b[0;34m.\u001b[0m\u001b[0mhist\u001b[0m\u001b[0;34m(\u001b[0m\u001b[0mdistribution_gen\u001b[0m\u001b[0;34m(\u001b[0m\u001b[0mK\u001b[0m\u001b[0;34m,\u001b[0m \u001b[0mdelta\u001b[0m\u001b[0;34m,\u001b[0m \u001b[0mb\u001b[0m\u001b[0;34m,\u001b[0m \u001b[0mN_0_l\u001b[0m\u001b[0;34m)\u001b[0m\u001b[0;34m,\u001b[0m\u001b[0mbins\u001b[0m\u001b[0;34m=\u001b[0m\u001b[0;36m200\u001b[0m\u001b[0;34m,\u001b[0m \u001b[0mdensity\u001b[0m\u001b[0;34m=\u001b[0m\u001b[0;32mTrue\u001b[0m\u001b[0;34m,\u001b[0m \u001b[0mstacked\u001b[0m\u001b[0;34m=\u001b[0m\u001b[0;32mTrue\u001b[0m\u001b[0;34m)\u001b[0m\u001b[0;34m[\u001b[0m\u001b[0;36m1\u001b[0m\u001b[0;34m]\u001b[0m\u001b[0;34m\u001b[0m\u001b[0;34m\u001b[0m\u001b[0m\n\u001b[0m\u001b[1;32m    119\u001b[0m \u001b[0;34m\u001b[0m\u001b[0m\n\u001b[1;32m    120\u001b[0m   \u001b[0mplt\u001b[0m\u001b[0;34m.\u001b[0m\u001b[0mplot\u001b[0m\u001b[0;34m(\u001b[0m\u001b[0mbins\u001b[0m\u001b[0;34m,\u001b[0m \u001b[0mteor_prob_dist\u001b[0m\u001b[0;34m(\u001b[0m\u001b[0mdelta\u001b[0m\u001b[0;34m,\u001b[0m \u001b[0mN\u001b[0m\u001b[0;34m,\u001b[0m \u001b[0mbins\u001b[0m\u001b[0;34m,\u001b[0m \u001b[0mN_0_l\u001b[0m\u001b[0;34m,\u001b[0m \u001b[0mb\u001b[0m\u001b[0;34m)\u001b[0m\u001b[0;34m,\u001b[0m \u001b[0mlabel\u001b[0m \u001b[0;34m=\u001b[0m \u001b[0;34mf'\\beta = {b}'\u001b[0m\u001b[0;34m)\u001b[0m\u001b[0;34m\u001b[0m\u001b[0;34m\u001b[0m\u001b[0m\n",
            "\u001b[0;32m<ipython-input-17-22f0a279e3f8>\u001b[0m in \u001b[0;36mdistribution_gen\u001b[0;34m(K, delta, beta, N_0_l)\u001b[0m\n\u001b[1;32m     93\u001b[0m         \u001b[0mM_l\u001b[0m \u001b[0;34m=\u001b[0m \u001b[0mrandom\u001b[0m\u001b[0;34m.\u001b[0m\u001b[0msample\u001b[0m\u001b[0;34m(\u001b[0m\u001b[0mrange\u001b[0m\u001b[0;34m(\u001b[0m\u001b[0;34m-\u001b[0m\u001b[0mdelta\u001b[0m\u001b[0;34m,\u001b[0m \u001b[0mdelta\u001b[0m\u001b[0;34m)\u001b[0m\u001b[0;34m,\u001b[0m \u001b[0mK\u001b[0m\u001b[0;34m)\u001b[0m\u001b[0;34m\u001b[0m\u001b[0;34m\u001b[0m\u001b[0m\n\u001b[1;32m     94\u001b[0m \u001b[0;34m\u001b[0m\u001b[0m\n\u001b[0;32m---> 95\u001b[0;31m         \u001b[0mresults\u001b[0m\u001b[0;34m,\u001b[0m \u001b[0;34m=\u001b[0m \u001b[0mnp\u001b[0m\u001b[0;34m.\u001b[0m\u001b[0mwhere\u001b[0m\u001b[0;34m(\u001b[0m\u001b[0mrd\u001b[0m\u001b[0;34m.\u001b[0m\u001b[0mrandom_sample\u001b[0m\u001b[0;34m(\u001b[0m\u001b[0mK\u001b[0m\u001b[0;34m)\u001b[0m \u001b[0;34m<\u001b[0m \u001b[0mprob_accept\u001b[0m\u001b[0;34m(\u001b[0m\u001b[0mdelta\u001b[0m\u001b[0;34m,\u001b[0m \u001b[0mN\u001b[0m\u001b[0;34m,\u001b[0m \u001b[0mM_l\u001b[0m\u001b[0;34m,\u001b[0m \u001b[0mN_0_l\u001b[0m\u001b[0;34m,\u001b[0m \u001b[0mbeta\u001b[0m\u001b[0;34m)\u001b[0m\u001b[0;34m)\u001b[0m\u001b[0;34m\u001b[0m\u001b[0;34m\u001b[0m\u001b[0m\n\u001b[0m\u001b[1;32m     96\u001b[0m \u001b[0;34m\u001b[0m\u001b[0m\n\u001b[1;32m     97\u001b[0m         \u001b[0mresults\u001b[0m \u001b[0;34m=\u001b[0m \u001b[0mM_l\u001b[0m\u001b[0;34m[\u001b[0m\u001b[0mresults\u001b[0m\u001b[0;34m,\u001b[0m\u001b[0;34m]\u001b[0m\u001b[0;34m\u001b[0m\u001b[0;34m\u001b[0m\u001b[0m\n",
            "\u001b[0;32m<ipython-input-17-22f0a279e3f8>\u001b[0m in \u001b[0;36mprob_accept\u001b[0;34m(delta, N, M_l, N_0_l, beta_)\u001b[0m\n\u001b[1;32m     41\u001b[0m   \u001b[0mprob_dist_m\u001b[0m \u001b[0;34m=\u001b[0m \u001b[0;34m[\u001b[0m\u001b[0;34m]\u001b[0m\u001b[0;34m\u001b[0m\u001b[0;34m\u001b[0m\u001b[0m\n\u001b[1;32m     42\u001b[0m   \u001b[0msum\u001b[0m \u001b[0;34m=\u001b[0m \u001b[0;36m0\u001b[0m\u001b[0;34m\u001b[0m\u001b[0;34m\u001b[0m\u001b[0m\n\u001b[0;32m---> 43\u001b[0;31m   \u001b[0mZ\u001b[0m \u001b[0;34m=\u001b[0m \u001b[0mZ_partition\u001b[0m\u001b[0;34m(\u001b[0m\u001b[0mN\u001b[0m\u001b[0;34m,\u001b[0m \u001b[0mN_0_l\u001b[0m\u001b[0;34m,\u001b[0m \u001b[0mM_l\u001b[0m\u001b[0;34m,\u001b[0m \u001b[0mbeta_\u001b[0m\u001b[0;34m,\u001b[0m \u001b[0mC\u001b[0m \u001b[0;34m=\u001b[0m \u001b[0;36m0.00\u001b[0m\u001b[0;34m)\u001b[0m\u001b[0;34m\u001b[0m\u001b[0;34m\u001b[0m\u001b[0m\n\u001b[0m\u001b[1;32m     44\u001b[0m \u001b[0;34m\u001b[0m\u001b[0m\n\u001b[1;32m     45\u001b[0m   \u001b[0;32mfor\u001b[0m \u001b[0mm\u001b[0m \u001b[0;32min\u001b[0m \u001b[0mM_l\u001b[0m\u001b[0;34m:\u001b[0m\u001b[0;34m\u001b[0m\u001b[0;34m\u001b[0m\u001b[0m\n",
            "\u001b[0;32m<ipython-input-16-d4687550a0b9>\u001b[0m in \u001b[0;36mZ_partition\u001b[0;34m(N, N_0_l, M_l, beta, C)\u001b[0m\n\u001b[1;32m     56\u001b[0m     \u001b[0;32mfor\u001b[0m \u001b[0mn0\u001b[0m \u001b[0;32min\u001b[0m \u001b[0mN_0_l\u001b[0m\u001b[0;34m:\u001b[0m\u001b[0;34m\u001b[0m\u001b[0;34m\u001b[0m\u001b[0m\n\u001b[1;32m     57\u001b[0m \u001b[0;34m\u001b[0m\u001b[0m\n\u001b[0;32m---> 58\u001b[0;31m       \u001b[0mOmega\u001b[0m \u001b[0;34m=\u001b[0m \u001b[0mnumber_of_states\u001b[0m\u001b[0;34m(\u001b[0m\u001b[0mm\u001b[0m\u001b[0;34m,\u001b[0m\u001b[0mn0\u001b[0m\u001b[0;34m)\u001b[0m\u001b[0;34m[\u001b[0m\u001b[0;34m-\u001b[0m\u001b[0;36m1\u001b[0m\u001b[0;34m]\u001b[0m\u001b[0;34m\u001b[0m\u001b[0;34m\u001b[0m\u001b[0m\n\u001b[0m\u001b[1;32m     59\u001b[0m       \u001b[0mE\u001b[0m \u001b[0;34m=\u001b[0m \u001b[0mEnergy\u001b[0m\u001b[0;34m(\u001b[0m\u001b[0mm\u001b[0m\u001b[0;34m,\u001b[0m\u001b[0mN\u001b[0m\u001b[0;34m)\u001b[0m\u001b[0;34m\u001b[0m\u001b[0;34m\u001b[0m\u001b[0m\n\u001b[1;32m     60\u001b[0m       \u001b[0mexp\u001b[0m \u001b[0;34m=\u001b[0m \u001b[0mnp\u001b[0m\u001b[0;34m.\u001b[0m\u001b[0mexp\u001b[0m\u001b[0;34m(\u001b[0m\u001b[0;34m-\u001b[0m\u001b[0mbeta\u001b[0m \u001b[0;34m*\u001b[0m \u001b[0mE\u001b[0m \u001b[0;34m-\u001b[0m \u001b[0mC\u001b[0m\u001b[0;34m)\u001b[0m\u001b[0;34m\u001b[0m\u001b[0;34m\u001b[0m\u001b[0m\n",
            "\u001b[0;31mTypeError\u001b[0m: 'int' object is not subscriptable"
          ]
        }
      ],
      "source": [
        "# Escreva aqui codigo\n",
        "\n",
        "# To-Do\n",
        "# 5. Calcular Probabilidade de Aceitação \n",
        "# 5.1 Calcular constante para maximizar Probabilidade de Aceitação\n",
        "# 6. Gerar Amostra Aleatória (Método de VonNeumann)\n",
        "# 7. Representar Histograma\n",
        "# 7.1 Calcular distribuição teórica\n",
        "\n",
        "\n",
        "\n",
        "def C_max_prob_accept(delta:float, N:int, M:int, N_0_l:list, beta:float, Z:float) -> float:\n",
        "\n",
        "  \"\"\"\n",
        "  Cálculo da constante para maximizar a probabilidade de aceitação.\n",
        "  \"\"\"\n",
        "\n",
        "  C_list = []\n",
        "  sum = 0\n",
        "\n",
        "  for n in N_0_l:\n",
        "\n",
        "    Omega = number_of_states(M,n)[-1]\n",
        "    E = Energy(M,N)\n",
        "    exp = np.exp(-beta * E)\n",
        "\n",
        "    sum += exp\n",
        "\n",
        "  C = delta * (1/Z) * sum\n",
        "  C_list.append(C)\n",
        "\n",
        "  return 1/max(C_list), C_list\n",
        "\n",
        "\n",
        "def prob_accept(delta:float, N:int, M_l:list, N_0_l:list, beta_:float) -> list:\n",
        "\n",
        "  \"\"\"\n",
        "  Cálculo da probabilidade de aceitação.\n",
        "  \"\"\"\n",
        "\n",
        "  prob_dist_m = []\n",
        "  sum = 0 \n",
        "  Z = Z_partition(N, N_0_l, M_l, beta_, C = 0.00)                 \n",
        "\n",
        "  for m in M_l:\n",
        "    for n in N_0_l:\n",
        "\n",
        "      C_prob = C_max_prob_accept(delta, N, m, N_0_l, beta_, Z)[0]  \n",
        "\n",
        "      Omega = number_of_states(m,n)[-1]\n",
        "      E = Energy(m,N)\n",
        "      exp = np.exp(-beta_ * E)\n",
        "      sum += Omega * exp \n",
        "\n",
        "    p_accept = delta * (1/Z) * sum * C_prob\n",
        "    prob_dist_m.append(p_accept)\n",
        "             \n",
        "\n",
        "  return prob_dist_m\n",
        "\n",
        "\n",
        "def teor_prob_dist(delta:float, N:int, M_l:list, N_0_l:list, beta:float) -> list:\n",
        "\n",
        "  \"\"\"\n",
        "  Cálculo da distribuição teórica.\n",
        "  \"\"\"\n",
        "  \n",
        "  teor_prob_dist_m = []\n",
        "  sum = 0 \n",
        "  Z = Z_partition(N, N_0_l, M_l, beta, C = 0) \n",
        "\n",
        "  for m in M_l:\n",
        "    for n in N_0_l:\n",
        "\n",
        "      Omega = number_of_states(m,n)[-1]\n",
        "      E = Energy(m,N)\n",
        "      exp = np.exp(-beta * E)\n",
        "      sum += Omega * exp \n",
        "\n",
        "    prob = sum / Z\n",
        "    teor_prob_dist_m.append(prob)\n",
        "\n",
        "  return teor_prob_dist_m\n",
        "\n",
        "\n",
        "\n",
        "def distribution_gen(K:int, delta:float, beta: float, N_0_l:list) -> list:                              \n",
        "\n",
        "    final = np.array([])\n",
        "\n",
        "    while(final.size < K):\n",
        "\n",
        "        M_l = random.sample(range(-delta, delta), K)\n",
        "               \n",
        "        results, = np.where(rd.random_sample(K) < prob_accept(delta, N, M_l, N_0_l, beta))\n",
        "\n",
        "        results = M_l[results,]                                      \n",
        "\n",
        "        final = np.concatenate((final,results))            \n",
        "\n",
        "    return final[0:K]\n",
        "\n",
        "\n",
        "\n",
        "\n",
        "\n",
        "\n",
        "# Representação do histograma \n",
        "N = 30\n",
        "\n",
        "N_0_l = [2,2,2,2,2]\n",
        "delta = 1000\n",
        "K = 200\n",
        "beta = [0.1, 0.25, 0.5, 0.6, 0.7, 0.75, 0.8, 0.9, 1.0, 1.1, 1.2]\n",
        "\n",
        "for b in beta:\n",
        "\n",
        "  bins = plt.hist(distribution_gen(K, delta, b, N_0_l),bins=200, density=True, stacked=True)[1]\n",
        "\n",
        "  plt.plot(bins, teor_prob_dist(delta, N, bins, N_0_l, b), label = f'\\beta = {b}')\n",
        "  plt.legend(frameon=False,fontsize=10)\n",
        "  plt.xlabel(\"M\")\n",
        "  plt.ylabel(\"$P_{\\beta}$(M)\")\n",
        "  plt.show()\n"
      ]
    },
    {
      "cell_type": "markdown",
      "metadata": {
        "tags": [
          "pergunta"
        ],
        "id": "xYUqiDcq6-Ar"
      },
      "source": [
        "(b) Meça a autocorrelação da magnetização para $\\beta=0.8$,\n",
        "\\begin{align}\n",
        "corr_{M}(\\tau)\t& =\\frac{\\left\\langle M_{i}M_{i+\\tau}\\right\\rangle -\\left\\langle M_{i}\\right\\rangle ^{2}}{\\left\\langle M_{i}^{2}\\right\\rangle -\\left\\langle M_{i}\\right\\rangle ^{2}} \\\\\n",
        "\\left\\langle M_{i}M_{i+\\tau}\\right\\rangle \t& =\\frac{1}{L}\\sum_{i=1}^{L}M_{i}M_{i+\\tau}\n",
        "\\end{align}\n"
      ]
    },
    {
      "cell_type": "markdown",
      "metadata": {
        "tags": [
          "resposta"
        ],
        "id": "ucFPDuQ-6-As"
      },
      "source": [
        "Responda aqui"
      ]
    },
    {
      "cell_type": "code",
      "execution_count": null,
      "metadata": {
        "tags": [
          "code"
        ],
        "id": "RoC8jeHM6-As"
      },
      "outputs": [],
      "source": [
        "# Escreva aqui codigo"
      ]
    },
    {
      "cell_type": "markdown",
      "metadata": {
        "tags": [
          "pergunta"
        ],
        "id": "ioyZQ2YH6-As"
      },
      "source": [
        "# Exercício 2\n",
        "Na pergunta anterior efectuamos uma simulação Monte Carlo num espaço\n",
        "de fase a uma dimensão, da variável $M$. Será que esta dinâmica corresponde\n",
        "à mesma dinâmica do sistema de $N$ spins com o Hamiltoniano \n",
        "\\begin{equation*}\n",
        "H=\\frac{1}{N}\\sum_{i=1}^{N}\\sum_{j\\ne i}^{N}\\left(1-s_{i}s_{j}\\right)\n",
        "\\end{equation*}\n",
        "de campo médio e o algoritmo de Metropolis?\n",
        "1 Para testar implemente o algoritmo de Metropolis para $N$ spins:\n",
        "-  Atribua a cada um dos $N$ spins do sistema uma variável $s_{i}=\\pm1,0$\n",
        "com probabilidade uniforme.\n",
        "- Considere um passo de tempo o seguinte algoritmo:\n",
        " - Escolha um spin com probabilidade uniforme.\n",
        " - Aceite trocar o seu spin com a probabilidade $\\min\\left(1,e^{-\\beta\\Delta E}\\right)$\n",
        "senão fique no mesmo estado."
      ]
    },
    {
      "cell_type": "markdown",
      "metadata": {
        "tags": [
          "resposta"
        ],
        "id": "On0Ec2Hy6-At"
      },
      "source": [
        "Responda aqui"
      ]
    },
    {
      "cell_type": "code",
      "execution_count": null,
      "metadata": {
        "tags": [
          "code"
        ],
        "id": "pFBwLGKL6-At"
      },
      "outputs": [],
      "source": [
        "# Escreva aqui codigo"
      ]
    },
    {
      "cell_type": "markdown",
      "metadata": {
        "tags": [
          "pergunta"
        ],
        "id": "Uy0w0tVd6-At"
      },
      "source": [
        "2. Verifique se a distribuição gerada neste algoritmo é equivalente à descrita no problema anterior. Gerando a posição inicial a partir do densidade de estados (todos os estados são equiprovaveis) verifique que a distribuição de probabilidade ao final de um tempo fixo (t=N,2N,4N,16N) é igual em ambos os algoritmos.\n"
      ]
    },
    {
      "cell_type": "markdown",
      "metadata": {
        "tags": [
          "resposta"
        ],
        "id": "NjtKQYpw6-At"
      },
      "source": [
        "Responda aqui"
      ]
    },
    {
      "cell_type": "code",
      "execution_count": null,
      "metadata": {
        "tags": [
          "code"
        ],
        "id": "sOuvdqF56-At"
      },
      "outputs": [],
      "source": [
        "# Escreva aqui codigo"
      ]
    },
    {
      "cell_type": "markdown",
      "metadata": {
        "tags": [
          "pergunta"
        ],
        "id": "nFILAvnq6-At"
      },
      "source": [
        "3. Calcule a função de autocorrelação da energia no tempo de Monte Carlo. "
      ]
    },
    {
      "cell_type": "markdown",
      "metadata": {
        "tags": [
          "resposta"
        ],
        "id": "hM9p9QrQ6-Au"
      },
      "source": [
        " (#) Pode  Escrever aqui texto "
      ]
    },
    {
      "cell_type": "code",
      "execution_count": null,
      "metadata": {
        "tags": [
          "code"
        ],
        "id": "LNsgo1qL6-Au"
      },
      "outputs": [],
      "source": [
        "# Escreva aqui codigo"
      ]
    },
    {
      "cell_type": "markdown",
      "metadata": {
        "tags": [
          "pergunta"
        ],
        "id": "JTxljbCh6-Au"
      },
      "source": [
        "4. Se em vez de considerar o modelo de Ising de campo médio considerasse o de duas dimensões como seria o algoritmo? "
      ]
    },
    {
      "cell_type": "markdown",
      "metadata": {
        "tags": [
          "resposta"
        ],
        "id": "9yd_0yV96-Au"
      },
      "source": [
        "Responda aqui"
      ]
    },
    {
      "cell_type": "code",
      "execution_count": null,
      "metadata": {
        "tags": [
          "code"
        ],
        "id": "p97WGkyx6-Au"
      },
      "outputs": [],
      "source": [
        "# Escreva aqui codigo"
      ]
    },
    {
      "cell_type": "markdown",
      "metadata": {
        "tags": [
          "sorte"
        ],
        "id": "7E4XgOPT6-Av"
      },
      "source": [
        "Bom trabalho"
      ]
    }
  ],
  "metadata": {
    "celltoolbar": "Tags",
    "kernelspec": {
      "display_name": "Python 3 (ipykernel)",
      "language": "python",
      "name": "python3"
    },
    "language_info": {
      "codemirror_mode": {
        "name": "ipython",
        "version": 3
      },
      "file_extension": ".py",
      "mimetype": "text/x-python",
      "name": "python",
      "nbconvert_exporter": "python",
      "pygments_lexer": "ipython3",
      "version": "3.9.13"
    },
    "colab": {
      "provenance": []
    }
  },
  "nbformat": 4,
  "nbformat_minor": 0
}